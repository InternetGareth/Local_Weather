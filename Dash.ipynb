{
 "cells": [
  {
   "cell_type": "code",
   "execution_count": 1,
   "metadata": {},
   "outputs": [
    {
     "name": "stdout",
     "output_type": "stream",
     "text": [
      "Running on http://127.0.0.1:8050/\n",
      "Debugger PIN: 035-540-361\n",
      " * Serving Flask app \"__main__\" (lazy loading)\n",
      " * Environment: production\n",
      "\u001b[31m   WARNING: This is a development server. Do not use it in a production deployment.\u001b[0m\n",
      "\u001b[2m   Use a production WSGI server instead.\u001b[0m\n",
      " * Debug mode: on\n"
     ]
    },
    {
     "ename": "SystemExit",
     "evalue": "1",
     "output_type": "error",
     "traceback": [
      "An exception has occurred, use %tb to see the full traceback.\n",
      "\u001b[0;31mSystemExit\u001b[0m\u001b[0;31m:\u001b[0m 1\n"
     ]
    },
    {
     "name": "stderr",
     "output_type": "stream",
     "text": [
      "/Users/garethwalker/anaconda3/envs/localweather/lib/python3.8/site-packages/IPython/core/interactiveshell.py:3339: UserWarning: To exit: use 'exit', 'quit', or Ctrl-D.\n",
      "  warn(\"To exit: use 'exit', 'quit', or Ctrl-D.\", stacklevel=1)\n"
     ]
    }
   ],
   "source": [
    "import dash\n",
    "import dash_core_components as dcc\n",
    "import dash_html_components as html\n",
    "\n",
    "external_stylesheets = ['https://codepen.io/chriddyp/pen/bWLwgP.css']\n",
    "\n",
    "app = dash.Dash(__name__, external_stylesheets=external_stylesheets)\n",
    "\n",
    "app.layout = html.Div(children=[\n",
    "    html.H1(children='Hello Dash'),\n",
    "\n",
    "    html.Div(children='''\n",
    "        Dash: A web application framework for Python.\n",
    "    '''),\n",
    "\n",
    "    dcc.Graph(\n",
    "        id='example-graph',\n",
    "        figure={\n",
    "            'data': [\n",
    "                {'x': [1, 2, 3], 'y': [4, 1, 2], 'type': 'bar', 'name': 'SF'},\n",
    "                {'x': [1, 2, 3], 'y': [2, 4, 5], 'type': 'bar', 'name': u'Montréal'},\n",
    "            ],\n",
    "            'layout': {\n",
    "                'title': 'Dash Data Visualization'\n",
    "            }\n",
    "        }\n",
    "    )\n",
    "])\n",
    "\n",
    "if __name__ == '__main__':\n",
    "    app.run_server(debug=True)"
   ]
  },
  {
   "cell_type": "code",
   "execution_count": 2,
   "metadata": {},
   "outputs": [
    {
     "name": "stdout",
     "output_type": "stream",
     "text": [
      "/bin/sh: line 0: fg: no job control\r\n"
     ]
    }
   ],
   "source": [
    "! %tb"
   ]
  },
  {
   "cell_type": "code",
   "execution_count": 1,
   "metadata": {},
   "outputs": [],
   "source": [
    "import plotly\n",
    "import plotly.graph_objs as go\n"
   ]
  },
  {
   "cell_type": "code",
   "execution_count": 8,
   "metadata": {},
   "outputs": [],
   "source": [
    "import pandas as pd\n",
    "filename = \"KPUD_Well_Depth_2020_04_05.csv\"\n",
    "well_depths=pd.read_csv(filename, index_col=0)\n",
    "well_depths.index = pd.to_datetime(well_depths.Date)\n",
    "well_depths  = well_depths.drop('Date', axis=1)\n",
    "wells_in_df = well_depths['Well Name'].unique()\n",
    "well_mask = well_depths['Well Name'] == wells_in_df[0]\n",
    "selected_well = well_depths['Water Level +/- MSL'][well_mask]"
   ]
  },
  {
   "cell_type": "code",
   "execution_count": null,
   "metadata": {},
   "outputs": [],
   "source": [
    "well_depths['']"
   ]
  },
  {
   "cell_type": "code",
   "execution_count": 10,
   "metadata": {},
   "outputs": [],
   "source": []
  },
  {
   "cell_type": "code",
   "execution_count": 11,
   "metadata": {},
   "outputs": [
    {
     "data": {
      "text/plain": [
       "<matplotlib.axes._subplots.AxesSubplot at 0x115d27df0>"
      ]
     },
     "execution_count": 11,
     "metadata": {},
     "output_type": "execute_result"
    },
    {
     "data": {
      "image/png": "[encoded data removed]",
      "text/plain": [
       "<Figure size 432x288 with 1 Axes>"
      ]
     },
     "metadata": {
      "needs_background": "light"
     },
     "output_type": "display_data"
    }
   ],
   "source": [
    "selected_well.plot()"
   ]
  },
  {
   "cell_type": "code",
   "execution_count": 16,
   "metadata": {},
   "outputs": [
    {
     "data": {
      "application/vnd.plotly.v1+json": {
       "config": {
        "plotlyServerURL": "https://plot.ly"
       },
       "data": [
        {
         "hovertemplate": "x=%{x}<br>y=%{y}<extra></extra>",
         "legendgroup": "",
         "line": {
          "color": "#636efa",
          "dash": "solid"
         },
         "mode": "lines",
         "name": "",
         "showlegend": false,
         "type": "scatter",
         "x": [
          "1975-07-14T00:00:00",
          "1990-11-14T00:00:00",
          "1991-01-11T00:00:00",
          "1991-03-27T00:00:00",
          "1991-04-22T00:00:00",
          "1991-06-04T00:00:00",
          "1991-06-26T00:00:00",
          "1991-07-30T00:00:00",
          "1991-09-09T00:00:00",
          "1991-11-04T00:00:00",
          "1991-11-05T00:00:00",
          "1991-12-06T00:00:00",
          "1992-02-06T00:00:00",
          "1992-03-18T00:00:00",
          "1992-04-15T00:00:00",
          "1992-06-03T00:00:00",
          "1992-07-02T00:00:00",
          "1992-08-11T00:00:00",
          "1993-01-21T00:00:00",
          "1993-02-02T00:00:00",
          "1993-02-04T00:00:00",
          "1993-03-16T00:00:00",
          "1993-04-19T00:00:00",
          "1993-05-24T00:00:00",
          "1993-06-28T00:00:00",
          "1993-07-27T00:00:00",
          "1993-09-01T00:00:00",
          "1994-04-06T00:00:00",
          "1994-07-19T00:00:00",
          "1994-08-15T00:00:00",
          "1994-09-14T00:00:00",
          "1994-10-24T00:00:00",
          "1994-11-16T00:00:00",
          "1994-12-19T00:00:00",
          "1995-01-18T00:00:00",
          "1995-02-21T00:00:00",
          "1995-03-20T00:00:00",
          "1995-04-24T00:00:00",
          "1995-08-30T00:00:00",
          "1995-11-27T00:00:00",
          "1995-12-19T00:00:00",
          "1996-01-23T00:00:00",
          "1996-02-13T00:00:00",
          "1996-03-26T00:00:00",
          "1996-04-24T00:00:00",
          "1996-05-20T00:00:00",
          "1996-06-20T00:00:00",
          "1996-07-26T00:00:00",
          "1996-08-13T00:00:00",
          "1996-09-12T00:00:00",
          "1996-10-16T00:00:00",
          "1996-11-18T00:00:00",
          "1996-12-16T00:00:00",
          "1997-01-15T00:00:00",
          "1997-02-20T00:00:00",
          "1997-03-21T00:00:00",
          "1997-04-21T00:00:00",
          "1997-05-13T00:00:00",
          "1997-06-23T00:00:00",
          "1997-07-17T00:00:00",
          "1997-08-26T00:00:00",
          "1997-09-24T00:00:00",
          "1997-10-22T00:00:00",
          "1997-12-09T00:00:00",
          "1998-01-27T00:00:00",
          "1998-02-24T00:00:00",
          "1998-03-20T00:00:00",
          "1998-04-22T00:00:00",
          "1998-05-14T00:00:00",
          "1998-06-15T00:00:00",
          "1998-07-20T00:00:00",
          "1998-08-17T00:00:00",
          "1998-09-18T00:00:00",
          "1998-10-27T00:00:00",
          "1998-11-20T00:00:00",
          "1998-12-15T00:00:00",
          "1999-01-14T00:00:00",
          "1999-04-27T00:00:00",
          "1999-05-25T00:00:00",
          "1999-07-20T00:00:00",
          "1999-09-29T00:00:00",
          "1999-10-26T00:00:00",
          "1999-11-29T00:00:00",
          "1999-12-17T00:00:00",
          "2000-01-25T00:00:00",
          "2000-02-22T00:00:00",
          "2000-03-27T00:00:00",
          "2000-04-18T00:00:00",
          "2000-05-30T00:00:00",
          "2000-06-28T00:00:00",
          "2000-08-07T00:00:00",
          "2000-09-27T00:00:00",
          "2000-11-14T00:00:00",
          "2000-12-13T00:00:00",
          "2001-01-16T00:00:00",
          "2001-02-14T00:00:00",
          "2001-03-17T00:00:00",
          "2001-04-13T00:00:00",
          "2001-05-21T00:00:00",
          "2001-06-20T00:00:00",
          "2001-07-16T00:00:00",
          "2001-08-14T00:00:00",
          "2001-09-20T00:00:00",
          "2001-11-07T00:00:00",
          "2001-12-11T00:00:00",
          "2002-01-16T00:00:00",
          "2002-02-26T00:00:00",
          "2002-04-01T00:00:00",
          "2002-05-22T00:00:00",
          "2002-06-26T00:00:00",
          "2002-07-15T00:00:00",
          "2002-08-28T00:00:00",
          "2002-10-28T00:00:00",
          "2002-12-02T00:00:00",
          "2003-01-14T00:00:00",
          "2003-02-18T00:00:00",
          "2003-03-19T00:00:00",
          "2003-04-30T00:00:00",
          "2003-05-02T00:00:00",
          "2003-05-03T00:00:00",
          "2003-06-02T00:00:00",
          "2003-06-03T00:00:00",
          "2003-06-30T00:00:00",
          "2003-08-01T00:00:00",
          "2003-08-06T00:00:00",
          "2003-08-29T00:00:00",
          "2003-09-28T00:00:00",
          "2003-10-06T00:00:00",
          "2003-10-30T00:00:00",
          "2003-11-29T00:00:00",
          "2003-12-05T00:00:00",
          "2004-01-03T00:00:00",
          "2004-01-28T00:00:00",
          "2004-02-10T00:00:00",
          "2004-03-01T00:00:00",
          "2004-04-02T00:00:00",
          "2004-04-04T00:00:00",
          "2004-05-02T00:00:00",
          "2004-06-03T00:00:00",
          "2004-06-03T00:00:00",
          "2004-06-29T00:00:00",
          "2004-07-29T00:00:00",
          "2004-08-11T00:00:00",
          "2004-08-28T00:00:00",
          "2004-09-29T00:00:00",
          "2004-10-05T00:00:00",
          "2004-10-29T00:00:00",
          "2004-11-28T00:00:00",
          "2004-12-01T00:00:00",
          "2005-01-02T00:00:00",
          "2005-02-01T00:00:00",
          "2005-02-03T00:00:00",
          "2005-03-03T00:00:00",
          "2005-03-28T00:00:00",
          "2005-03-30T00:00:00",
          "2005-05-07T00:00:00",
          "2005-06-01T00:00:00",
          "2005-06-03T00:00:00",
          "2005-06-29T00:00:00",
          "2005-07-29T00:00:00",
          "2005-08-02T00:00:00",
          "2005-09-02T00:00:00",
          "2005-09-27T00:00:00",
          "2005-10-06T00:00:00",
          "2005-10-29T00:00:00",
          "2005-12-02T00:00:00",
          "2005-12-03T00:00:00",
          "2005-12-31T00:00:00",
          "2006-02-04T00:00:00",
          "2006-02-06T00:00:00",
          "2006-03-06T00:00:00",
          "2006-04-04T00:00:00",
          "2006-04-07T00:00:00",
          "2006-05-02T00:00:00",
          "2006-05-30T00:00:00",
          "2006-06-07T00:00:00",
          "2006-06-29T00:00:00",
          "2006-08-01T00:00:00",
          "2006-08-02T00:00:00",
          "2006-10-09T00:00:00",
          "2006-12-08T00:00:00",
          "2007-01-02T00:00:00",
          "2007-02-02T00:00:00",
          "2007-02-02T00:00:00",
          "2007-03-01T00:00:00",
          "2007-04-02T00:00:00",
          "2007-04-03T00:00:00",
          "2007-05-02T00:00:00",
          "2009-02-06T00:00:00",
          "2009-03-03T00:00:00",
          "2009-04-02T00:00:00",
          "2009-05-04T00:00:00",
          "2009-05-27T00:00:00",
          "2009-05-29T00:00:00",
          "2009-07-01T00:00:00",
          "2009-07-29T00:00:00",
          "2009-08-02T00:00:00",
          "2009-08-30T00:00:00",
          "2009-09-29T00:00:00",
          "2009-11-03T00:00:00",
          "2009-11-28T00:00:00",
          "2009-12-03T00:00:00",
          "2009-12-30T00:00:00",
          "2010-02-01T00:00:00",
          "2010-03-06T00:00:00",
          "2010-04-07T00:00:00",
          "2010-04-15T00:00:00",
          "2010-04-30T00:00:00",
          "2010-06-01T00:00:00",
          "2010-07-01T00:00:00",
          "2010-07-27T00:00:00",
          "2010-07-29T00:00:00",
          "2010-08-26T00:00:00",
          "2010-09-27T00:00:00",
          "2010-11-01T00:00:00",
          "2010-11-28T00:00:00",
          "2010-11-30T00:00:00",
          "2010-12-26T00:00:00",
          "2011-01-30T00:00:00",
          "2011-03-06T00:00:00",
          "2011-04-07T00:00:00",
          "2011-04-11T00:00:00",
          "2011-04-30T00:00:00",
          "2011-06-03T00:00:00",
          "2011-06-08T00:00:00",
          "2011-07-08T00:00:00",
          "2011-08-07T00:00:00",
          "2011-09-04T00:00:00",
          "2011-09-30T00:00:00",
          "2011-10-05T00:00:00",
          "2011-11-03T00:00:00",
          "2011-12-01T00:00:00",
          "2012-01-02T00:00:00",
          "2012-01-21T00:00:00",
          "2012-02-27T00:00:00",
          "2012-04-04T00:00:00",
          "2012-04-04T00:00:00",
          "2012-05-04T00:00:00",
          "2012-06-03T00:00:00",
          "2012-07-05T00:00:00",
          "2012-07-30T00:00:00",
          "2012-07-31T00:00:00",
          "2012-08-28T00:00:00",
          "2012-09-24T00:00:00",
          "2012-10-19T00:00:00",
          "2012-11-02T00:00:00",
          "2012-11-28T00:00:00",
          "2012-12-04T00:00:00",
          "2013-01-29T00:00:00",
          "2013-03-03T00:00:00",
          "2013-03-28T00:00:00",
          "2013-05-02T00:00:00",
          "2013-06-03T00:00:00",
          "2013-06-05T00:00:00",
          "2013-06-17T00:00:00",
          "2013-06-30T00:00:00",
          "2013-07-26T00:00:00",
          "2013-07-30T00:00:00",
          "2013-08-25T00:00:00",
          "2013-09-29T00:00:00",
          "2013-10-02T00:00:00",
          "2013-10-29T00:00:00",
          "2013-11-23T00:00:00",
          "2013-12-28T00:00:00",
          "2014-01-31T00:00:00",
          "2014-02-19T00:00:00",
          "2014-03-12T00:00:00",
          "2014-03-13T00:00:00",
          "2014-04-02T00:00:00",
          "2014-05-02T00:00:00",
          "2014-06-01T00:00:00",
          "2014-07-03T00:00:00",
          "2014-07-31T00:00:00",
          "2014-08-04T00:00:00",
          "2014-08-30T00:00:00",
          "2014-09-27T00:00:00",
          "2014-10-29T00:00:00",
          "2014-12-03T00:00:00",
          "2015-02-10T00:00:00",
          "2015-02-22T00:00:00",
          "2015-08-03T00:00:00",
          "2015-08-17T00:00:00",
          "2015-08-30T00:00:00",
          "2015-09-29T00:00:00",
          "2015-11-01T00:00:00",
          "2015-11-30T00:00:00",
          "2015-12-03T00:00:00",
          "2016-01-02T00:00:00",
          "2016-02-01T00:00:00",
          "2016-03-02T00:00:00",
          "2016-04-04T00:00:00",
          "2016-04-29T00:00:00",
          "2016-05-31T00:00:00",
          "2016-06-28T00:00:00",
          "2016-07-27T00:00:00",
          "2016-07-30T00:00:00",
          "2016-09-01T00:00:00",
          "2016-10-01T00:00:00",
          "2016-10-12T00:00:00",
          "2016-10-29T00:00:00",
          "2016-12-02T00:00:00",
          "2016-12-30T00:00:00",
          "2017-01-29T00:00:00",
          "2017-02-02T00:00:00",
          "2017-03-04T00:00:00",
          "2017-04-02T00:00:00",
          "2017-04-29T00:00:00",
          "2017-05-26T00:00:00",
          "2017-05-31T00:00:00",
          "2018-02-01T00:00:00",
          "2018-09-07T00:00:00",
          "2018-12-03T00:00:00",
          "2019-04-03T00:00:00",
          "2019-08-06T00:00:00",
          "2019-09-04T00:00:00",
          "2019-10-03T00:00:00",
          "2019-12-06T00:00:00",
          "2020-02-06T00:00:00"
         ],
         "xaxis": "x",
         "y": [
          42.8,
          35.16,
          37.47,
          37.47,
          37.47,
          37.47,
          35.16,
          37.47,
          35.16,
          35.16,
          35.16,
          37.47,
          37.47,
          35.16,
          35.16,
          35.16,
          35.16,
          32.85,
          32.85,
          25.92,
          30.54,
          32.85,
          28.23,
          31.7,
          32.85,
          22.46,
          31.7,
          36.55,
          35.93,
          32.85,
          33.78,
          35.16,
          34.93,
          36.32,
          33.08,
          36.55,
          36.55,
          22.22,
          19.68,
          30.54,
          34.24,
          36.55,
          35.16,
          36.08,
          37.01,
          35.62,
          37.47,
          35.62,
          35.62,
          35.39,
          36.55,
          37.7,
          37.47,
          37.47,
          27.97,
          37.67,
          37.67,
          38.67,
          38.67,
          37.47,
          37.97,
          36.97,
          37.27,
          38.37,
          38.67,
          38.37,
          41.17,
          39.57,
          39.77,
          40.27,
          37.97,
          36.97,
          36.57,
          36.27,
          36.97,
          36.07,
          37.47,
          37.97,
          37.47,
          38.37,
          36.57,
          36.77,
          37.47,
          38.37,
          38.67,
          38.37,
          38.87,
          39.27,
          34.67,
          37.47,
          37.47,
          35.16,
          35.39,
          36.31,
          37.68,
          37.01,
          38.16,
          38.63,
          37.01,
          35.89,
          37.01,
          36.78,
          35.89,
          36.55,
          37.02,
          37.02,
          36.78,
          36.32,
          37.93,
          36.08,
          37.47,
          36.32,
          35.62,
          35.62,
          36.32,
          36.55,
          36.08,
          31.23,
          36.31,
          37.47,
          37.65,
          35.28,
          36.82,
          35.16,
          33.2,
          34.07,
          33.84,
          32.28,
          34.29,
          35.15,
          34.93,
          36.62,
          37.14,
          35.85,
          37.6,
          37.05,
          37.95,
          38.15,
          34.47,
          37.86,
          37.05,
          36.51,
          34.54,
          34.88,
          34.61,
          34.14,
          35.18,
          34.99,
          34.58,
          35.58,
          36.31,
          35.02,
          37.12,
          37.79,
          35.62,
          37.88,
          38,
          35.86,
          37.21,
          36.87,
          33.77,
          35.04,
          34.48,
          33.77,
          34.99,
          36.55,
          35.89,
          36.43,
          37.04,
          37.24,
          37.01,
          37.24,
          37.26,
          36.96,
          37.12,
          35.62,
          36.64,
          35.42,
          34.69,
          33.08,
          32.64,
          35.11,
          35.35,
          34.19,
          36.01,
          36.22,
          35.85,
          36.51,
          35.37,
          36.01,
          36.22,
          36.58,
          36.7,
          35.28,
          36.04,
          33.31,
          34.92,
          33.35,
          32.97,
          33.35,
          34.03,
          33.36,
          34.98,
          35.86,
          36.24,
          36.65,
          35.39,
          37,
          36.93,
          36.79,
          34.24,
          36.28,
          35.43,
          35.04,
          35.78,
          36.19,
          35.86,
          36.84,
          36.98,
          37.77,
          38.51,
          null,
          40.05,
          37.47,
          39.41,
          39.52,
          39.17,
          38.34,
          37.86,
          36.13,
          37.54,
          37.85,
          38.49,
          39.33,
          39.48,
          39.77,
          37.67,
          40.09,
          40.16,
          40.06,
          36.97,
          39.59,
          38.59,
          37.86,
          37.77,
          37.85,
          38.97,
          38.97,
          38.97,
          39.56,
          40.02,
          40.09,
          39.99,
          37.47,
          37.89,
          38.76,
          37.93,
          36.55,
          36.82,
          36.33,
          35.04,
          37,
          37.47,
          37.86,
          38.25,
          38.22,
          38.39,
          37.93,
          39.98,
          40.2,
          40.1,
          39.87,
          38.9,
          36.31,
          37.9,
          37.76,
          37.76,
          38.07,
          39.09,
          39.2,
          34.58,
          34.01,
          35.94,
          35.62,
          35.97,
          35.62,
          36.55,
          36.99,
          37.78,
          38.2,
          38.42,
          38.86,
          38.86,
          38.27,
          35.78,
          37.41,
          36.52,
          35.86,
          33.8,
          36.19,
          36.7,
          36.98,
          37.26,
          35.39,
          37.86,
          38.18,
          38.57,
          36.08,
          38.64,
          35.16,
          34.23,
          3.4,
          3.15,
          3.1,
          3.5,
          3.1,
          2.8,
          2.4
         ],
         "yaxis": "y"
        }
       ],
       "layout": {
        "legend": {
         "tracegroupgap": 0
        },
        "margin": {
         "t": 60
        },
        "template": {
         "data": {
          "bar": [
           {
            "error_x": {
             "color": "#2a3f5f"
            },
            "error_y": {
             "color": "#2a3f5f"
            },
            "marker": {
             "line": {
              "color": "#E5ECF6",
              "width": 0.5
             }
            },
            "type": "bar"
           }
          ],
          "barpolar": [
           {
            "marker": {
             "line": {
              "color": "#E5ECF6",
              "width": 0.5
             }
            },
            "type": "barpolar"
           }
          ],
          "carpet": [
           {
            "aaxis": {
             "endlinecolor": "#2a3f5f",
             "gridcolor": "white",
             "linecolor": "white",
             "minorgridcolor": "white",
             "startlinecolor": "#2a3f5f"
            },
            "baxis": {
             "endlinecolor": "#2a3f5f",
             "gridcolor": "white",
             "linecolor": "white",
             "minorgridcolor": "white",
             "startlinecolor": "#2a3f5f"
            },
            "type": "carpet"
           }
          ],
          "choropleth": [
           {
            "colorbar": {
             "outlinewidth": 0,
             "ticks": ""
            },
            "type": "choropleth"
           }
          ],
          "contour": [
           {
            "colorbar": {
             "outlinewidth": 0,
             "ticks": ""
            },
            "colorscale": [
             [
              0,
              "#0d0887"
             ],
             [
              0.1111111111111111,
              "#46039f"
             ],
             [
              0.2222222222222222,
              "#7201a8"
             ],
             [
              0.3333333333333333,
              "#9c179e"
             ],
             [
              0.4444444444444444,
              "#bd3786"
             ],
             [
              0.5555555555555556,
              "#d8576b"
             ],
             [
              0.6666666666666666,
              "#ed7953"
             ],
             [
              0.7777777777777778,
              "#fb9f3a"
             ],
             [
              0.8888888888888888,
              "#fdca26"
             ],
             [
              1,
              "#f0f921"
             ]
            ],
            "type": "contour"
           }
          ],
          "contourcarpet": [
           {
            "colorbar": {
             "outlinewidth": 0,
             "ticks": ""
            },
            "type": "contourcarpet"
           }
          ],
          "heatmap": [
           {
            "colorbar": {
             "outlinewidth": 0,
             "ticks": ""
            },
            "colorscale": [
             [
              0,
              "#0d0887"
             ],
             [
              0.1111111111111111,
              "#46039f"
             ],
             [
              0.2222222222222222,
              "#7201a8"
             ],
             [
              0.3333333333333333,
              "#9c179e"
             ],
             [
              0.4444444444444444,
              "#bd3786"
             ],
             [
              0.5555555555555556,
              "#d8576b"
             ],
             [
              0.6666666666666666,
              "#ed7953"
             ],
             [
              0.7777777777777778,
              "#fb9f3a"
             ],
             [
              0.8888888888888888,
              "#fdca26"
             ],
             [
              1,
              "#f0f921"
             ]
            ],
            "type": "heatmap"
           }
          ],
          "heatmapgl": [
           {
            "colorbar": {
             "outlinewidth": 0,
             "ticks": ""
            },
            "colorscale": [
             [
              0,
              "#0d0887"
             ],
             [
              0.1111111111111111,
              "#46039f"
             ],
             [
              0.2222222222222222,
              "#7201a8"
             ],
             [
              0.3333333333333333,
              "#9c179e"
             ],
             [
              0.4444444444444444,
              "#bd3786"
             ],
             [
              0.5555555555555556,
              "#d8576b"
             ],
             [
              0.6666666666666666,
              "#ed7953"
             ],
             [
              0.7777777777777778,
              "#fb9f3a"
             ],
             [
              0.8888888888888888,
              "#fdca26"
             ],
             [
              1,
              "#f0f921"
             ]
            ],
            "type": "heatmapgl"
           }
          ],
          "histogram": [
           {
            "marker": {
             "colorbar": {
              "outlinewidth": 0,
              "ticks": ""
             }
            },
            "type": "histogram"
           }
          ],
          "histogram2d": [
           {
            "colorbar": {
             "outlinewidth": 0,
             "ticks": ""
            },
            "colorscale": [
             [
              0,
              "#0d0887"
             ],
             [
              0.1111111111111111,
              "#46039f"
             ],
             [
              0.2222222222222222,
              "#7201a8"
             ],
             [
              0.3333333333333333,
              "#9c179e"
             ],
             [
              0.4444444444444444,
              "#bd3786"
             ],
             [
              0.5555555555555556,
              "#d8576b"
             ],
             [
              0.6666666666666666,
              "#ed7953"
             ],
             [
              0.7777777777777778,
              "#fb9f3a"
             ],
             [
              0.8888888888888888,
              "#fdca26"
             ],
             [
              1,
              "#f0f921"
             ]
            ],
            "type": "histogram2d"
           }
          ],
          "histogram2dcontour": [
           {
            "colorbar": {
             "outlinewidth": 0,
             "ticks": ""
            },
            "colorscale": [
             [
              0,
              "#0d0887"
             ],
             [
              0.1111111111111111,
              "#46039f"
             ],
             [
              0.2222222222222222,
              "#7201a8"
             ],
             [
              0.3333333333333333,
              "#9c179e"
             ],
             [
              0.4444444444444444,
              "#bd3786"
             ],
             [
              0.5555555555555556,
              "#d8576b"
             ],
             [
              0.6666666666666666,
              "#ed7953"
             ],
             [
              0.7777777777777778,
              "#fb9f3a"
             ],
             [
              0.8888888888888888,
              "#fdca26"
             ],
             [
              1,
              "#f0f921"
             ]
            ],
            "type": "histogram2dcontour"
           }
          ],
          "mesh3d": [
           {
            "colorbar": {
             "outlinewidth": 0,
             "ticks": ""
            },
            "type": "mesh3d"
           }
          ],
          "parcoords": [
           {
            "line": {
             "colorbar": {
              "outlinewidth": 0,
              "ticks": ""
             }
            },
            "type": "parcoords"
           }
          ],
          "pie": [
           {
            "automargin": true,
            "type": "pie"
           }
          ],
          "scatter": [
           {
            "marker": {
             "colorbar": {
              "outlinewidth": 0,
              "ticks": ""
             }
            },
            "type": "scatter"
           }
          ],
          "scatter3d": [
           {
            "line": {
             "colorbar": {
              "outlinewidth": 0,
              "ticks": ""
             }
            },
            "marker": {
             "colorbar": {
              "outlinewidth": 0,
              "ticks": ""
             }
            },
            "type": "scatter3d"
           }
          ],
          "scattercarpet": [
           {
            "marker": {
             "colorbar": {
              "outlinewidth": 0,
              "ticks": ""
             }
            },
            "type": "scattercarpet"
           }
          ],
          "scattergeo": [
           {
            "marker": {
             "colorbar": {
              "outlinewidth": 0,
              "ticks": ""
             }
            },
            "type": "scattergeo"
           }
          ],
          "scattergl": [
           {
            "marker": {
             "colorbar": {
              "outlinewidth": 0,
              "ticks": ""
             }
            },
            "type": "scattergl"
           }
          ],
          "scattermapbox": [
           {
            "marker": {
             "colorbar": {
              "outlinewidth": 0,
              "ticks": ""
             }
            },
            "type": "scattermapbox"
           }
          ],
          "scatterpolar": [
           {
            "marker": {
             "colorbar": {
              "outlinewidth": 0,
              "ticks": ""
             }
            },
            "type": "scatterpolar"
           }
          ],
          "scatterpolargl": [
           {
            "marker": {
             "colorbar": {
              "outlinewidth": 0,
              "ticks": ""
             }
            },
            "type": "scatterpolargl"
           }
          ],
          "scatterternary": [
           {
            "marker": {
             "colorbar": {
              "outlinewidth": 0,
              "ticks": ""
             }
            },
            "type": "scatterternary"
           }
          ],
          "surface": [
           {
            "colorbar": {
             "outlinewidth": 0,
             "ticks": ""
            },
            "colorscale": [
             [
              0,
              "#0d0887"
             ],
             [
              0.1111111111111111,
              "#46039f"
             ],
             [
              0.2222222222222222,
              "#7201a8"
             ],
             [
              0.3333333333333333,
              "#9c179e"
             ],
             [
              0.4444444444444444,
              "#bd3786"
             ],
             [
              0.5555555555555556,
              "#d8576b"
             ],
             [
              0.6666666666666666,
              "#ed7953"
             ],
             [
              0.7777777777777778,
              "#fb9f3a"
             ],
             [
              0.8888888888888888,
              "#fdca26"
             ],
             [
              1,
              "#f0f921"
             ]
            ],
            "type": "surface"
           }
          ],
          "table": [
           {
            "cells": {
             "fill": {
              "color": "#EBF0F8"
             },
             "line": {
              "color": "white"
             }
            },
            "header": {
             "fill": {
              "color": "#C8D4E3"
             },
             "line": {
              "color": "white"
             }
            },
            "type": "table"
           }
          ]
         },
         "layout": {
          "annotationdefaults": {
           "arrowcolor": "#2a3f5f",
           "arrowhead": 0,
           "arrowwidth": 1
          },
          "coloraxis": {
           "colorbar": {
            "outlinewidth": 0,
            "ticks": ""
           }
          },
          "colorscale": {
           "diverging": [
            [
             0,
             "#8e0152"
            ],
            [
             0.1,
             "#c51b7d"
            ],
            [
             0.2,
             "#de77ae"
            ],
            [
             0.3,
             "#f1b6da"
            ],
            [
             0.4,
             "#fde0ef"
            ],
            [
             0.5,
             "#f7f7f7"
            ],
            [
             0.6,
             "#e6f5d0"
            ],
            [
             0.7,
             "#b8e186"
            ],
            [
             0.8,
             "#7fbc41"
            ],
            [
             0.9,
             "#4d9221"
            ],
            [
             1,
             "#276419"
            ]
           ],
           "sequential": [
            [
             0,
             "#0d0887"
            ],
            [
             0.1111111111111111,
             "#46039f"
            ],
            [
             0.2222222222222222,
             "#7201a8"
            ],
            [
             0.3333333333333333,
             "#9c179e"
            ],
            [
             0.4444444444444444,
             "#bd3786"
            ],
            [
             0.5555555555555556,
             "#d8576b"
            ],
            [
             0.6666666666666666,
             "#ed7953"
            ],
            [
             0.7777777777777778,
             "#fb9f3a"
            ],
            [
             0.8888888888888888,
             "#fdca26"
            ],
            [
             1,
             "#f0f921"
            ]
           ],
           "sequentialminus": [
            [
             0,
             "#0d0887"
            ],
            [
             0.1111111111111111,
             "#46039f"
            ],
            [
             0.2222222222222222,
             "#7201a8"
            ],
            [
             0.3333333333333333,
             "#9c179e"
            ],
            [
             0.4444444444444444,
             "#bd3786"
            ],
            [
             0.5555555555555556,
             "#d8576b"
            ],
            [
             0.6666666666666666,
             "#ed7953"
            ],
            [
             0.7777777777777778,
             "#fb9f3a"
            ],
            [
             0.8888888888888888,
             "#fdca26"
            ],
            [
             1,
             "#f0f921"
            ]
           ]
          },
          "colorway": [
           "#636efa",
           "#EF553B",
           "#00cc96",
           "#ab63fa",
           "#FFA15A",
           "#19d3f3",
           "#FF6692",
           "#B6E880",
           "#FF97FF",
           "#FECB52"
          ],
          "font": {
           "color": "#2a3f5f"
          },
          "geo": {
           "bgcolor": "white",
           "lakecolor": "white",
           "landcolor": "#E5ECF6",
           "showlakes": true,
           "showland": true,
           "subunitcolor": "white"
          },
          "hoverlabel": {
           "align": "left"
          },
          "hovermode": "closest",
          "mapbox": {
           "style": "light"
          },
          "paper_bgcolor": "white",
          "plot_bgcolor": "#E5ECF6",
          "polar": {
           "angularaxis": {
            "gridcolor": "white",
            "linecolor": "white",
            "ticks": ""
           },
           "bgcolor": "#E5ECF6",
           "radialaxis": {
            "gridcolor": "white",
            "linecolor": "white",
            "ticks": ""
           }
          },
          "scene": {
           "xaxis": {
            "backgroundcolor": "#E5ECF6",
            "gridcolor": "white",
            "gridwidth": 2,
            "linecolor": "white",
            "showbackground": true,
            "ticks": "",
            "zerolinecolor": "white"
           },
           "yaxis": {
            "backgroundcolor": "#E5ECF6",
            "gridcolor": "white",
            "gridwidth": 2,
            "linecolor": "white",
            "showbackground": true,
            "ticks": "",
            "zerolinecolor": "white"
           },
           "zaxis": {
            "backgroundcolor": "#E5ECF6",
            "gridcolor": "white",
            "gridwidth": 2,
            "linecolor": "white",
            "showbackground": true,
            "ticks": "",
            "zerolinecolor": "white"
           }
          },
          "shapedefaults": {
           "line": {
            "color": "#2a3f5f"
           }
          },
          "ternary": {
           "aaxis": {
            "gridcolor": "white",
            "linecolor": "white",
            "ticks": ""
           },
           "baxis": {
            "gridcolor": "white",
            "linecolor": "white",
            "ticks": ""
           },
           "bgcolor": "#E5ECF6",
           "caxis": {
            "gridcolor": "white",
            "linecolor": "white",
            "ticks": ""
           }
          },
          "title": {
           "x": 0.05
          },
          "xaxis": {
           "automargin": true,
           "gridcolor": "white",
           "linecolor": "white",
           "ticks": "",
           "title": {
            "standoff": 15
           },
           "zerolinecolor": "white",
           "zerolinewidth": 2
          },
          "yaxis": {
           "automargin": true,
           "gridcolor": "white",
           "linecolor": "white",
           "ticks": "",
           "title": {
            "standoff": 15
           },
           "zerolinecolor": "white",
           "zerolinewidth": 2
          }
         }
        },
        "xaxis": {
         "anchor": "y",
         "domain": [
          0,
          1
         ],
         "title": {
          "text": "x"
         }
        },
        "yaxis": {
         "anchor": "x",
         "domain": [
          0,
          1
         ],
         "title": {
          "text": "y"
         }
        }
       }
      },
      "text/html": [
       "<div>\n",
       "        \n",
       "        \n",
       "            <div id=\"9c86a11a-9e8a-47af-9089-6f49eb408c98\" class=\"plotly-graph-div\" style=\"height:525px; width:100%;\"></div>\n",
       "            <script type=\"text/javascript\">\n",
       "                require([\"plotly\"], function(Plotly) {\n",
       "                    window.PLOTLYENV=window.PLOTLYENV || {};\n",
       "                    \n",
       "                if (document.getElementById(\"9c86a11a-9e8a-47af-9089-6f49eb408c98\")) {\n",
       "                    Plotly.newPlot(\n",
       "                        '9c86a11a-9e8a-47af-9089-6f49eb408c98',\n",
       "                        [{\"hovertemplate\": \"x=%{x}<br>y=%{y}<extra></extra>\", \"legendgroup\": \"\", \"line\": {\"color\": \"#636efa\", \"dash\": \"solid\"}, \"mode\": \"lines\", \"name\": \"\", \"showlegend\": false, \"type\": \"scatter\", \"x\": [\"1975-07-14T00:00:00\", \"1990-11-14T00:00:00\", \"1991-01-11T00:00:00\", \"1991-03-27T00:00:00\", \"1991-04-22T00:00:00\", \"1991-06-04T00:00:00\", \"1991-06-26T00:00:00\", \"1991-07-30T00:00:00\", \"1991-09-09T00:00:00\", \"1991-11-04T00:00:00\", \"1991-11-05T00:00:00\", \"1991-12-06T00:00:00\", \"1992-02-06T00:00:00\", \"1992-03-18T00:00:00\", \"1992-04-15T00:00:00\", \"1992-06-03T00:00:00\", \"1992-07-02T00:00:00\", \"1992-08-11T00:00:00\", \"1993-01-21T00:00:00\", \"1993-02-02T00:00:00\", \"1993-02-04T00:00:00\", \"1993-03-16T00:00:00\", \"1993-04-19T00:00:00\", \"1993-05-24T00:00:00\", \"1993-06-28T00:00:00\", \"1993-07-27T00:00:00\", \"1993-09-01T00:00:00\", \"1994-04-06T00:00:00\", \"1994-07-19T00:00:00\", \"1994-08-15T00:00:00\", \"1994-09-14T00:00:00\", \"1994-10-24T00:00:00\", \"1994-11-16T00:00:00\", \"1994-12-19T00:00:00\", \"1995-01-18T00:00:00\", \"1995-02-21T00:00:00\", \"1995-03-20T00:00:00\", \"1995-04-24T00:00:00\", \"1995-08-30T00:00:00\", \"1995-11-27T00:00:00\", \"1995-12-19T00:00:00\", \"1996-01-23T00:00:00\", \"1996-02-13T00:00:00\", \"1996-03-26T00:00:00\", \"1996-04-24T00:00:00\", \"1996-05-20T00:00:00\", \"1996-06-20T00:00:00\", \"1996-07-26T00:00:00\", \"1996-08-13T00:00:00\", \"1996-09-12T00:00:00\", \"1996-10-16T00:00:00\", \"1996-11-18T00:00:00\", \"1996-12-16T00:00:00\", \"1997-01-15T00:00:00\", \"1997-02-20T00:00:00\", \"1997-03-21T00:00:00\", \"1997-04-21T00:00:00\", \"1997-05-13T00:00:00\", \"1997-06-23T00:00:00\", \"1997-07-17T00:00:00\", \"1997-08-26T00:00:00\", \"1997-09-24T00:00:00\", \"1997-10-22T00:00:00\", \"1997-12-09T00:00:00\", \"1998-01-27T00:00:00\", \"1998-02-24T00:00:00\", \"1998-03-20T00:00:00\", \"1998-04-22T00:00:00\", \"1998-05-14T00:00:00\", \"1998-06-15T00:00:00\", \"1998-07-20T00:00:00\", \"1998-08-17T00:00:00\", \"1998-09-18T00:00:00\", \"1998-10-27T00:00:00\", \"1998-11-20T00:00:00\", \"1998-12-15T00:00:00\", \"1999-01-14T00:00:00\", \"1999-04-27T00:00:00\", \"1999-05-25T00:00:00\", \"1999-07-20T00:00:00\", \"1999-09-29T00:00:00\", \"1999-10-26T00:00:00\", \"1999-11-29T00:00:00\", \"1999-12-17T00:00:00\", \"2000-01-25T00:00:00\", \"2000-02-22T00:00:00\", \"2000-03-27T00:00:00\", \"2000-04-18T00:00:00\", \"2000-05-30T00:00:00\", \"2000-06-28T00:00:00\", \"2000-08-07T00:00:00\", \"2000-09-27T00:00:00\", \"2000-11-14T00:00:00\", \"2000-12-13T00:00:00\", \"2001-01-16T00:00:00\", \"2001-02-14T00:00:00\", \"2001-03-17T00:00:00\", \"2001-04-13T00:00:00\", \"2001-05-21T00:00:00\", \"2001-06-20T00:00:00\", \"2001-07-16T00:00:00\", \"2001-08-14T00:00:00\", \"2001-09-20T00:00:00\", \"2001-11-07T00:00:00\", \"2001-12-11T00:00:00\", \"2002-01-16T00:00:00\", \"2002-02-26T00:00:00\", \"2002-04-01T00:00:00\", \"2002-05-22T00:00:00\", \"2002-06-26T00:00:00\", \"2002-07-15T00:00:00\", \"2002-08-28T00:00:00\", \"2002-10-28T00:00:00\", \"2002-12-02T00:00:00\", \"2003-01-14T00:00:00\", \"2003-02-18T00:00:00\", \"2003-03-19T00:00:00\", \"2003-04-30T00:00:00\", \"2003-05-02T00:00:00\", \"2003-05-03T00:00:00\", \"2003-06-02T00:00:00\", \"2003-06-03T00:00:00\", \"2003-06-30T00:00:00\", \"2003-08-01T00:00:00\", \"2003-08-06T00:00:00\", \"2003-08-29T00:00:00\", \"2003-09-28T00:00:00\", \"2003-10-06T00:00:00\", \"2003-10-30T00:00:00\", \"2003-11-29T00:00:00\", \"2003-12-05T00:00:00\", \"2004-01-03T00:00:00\", \"2004-01-28T00:00:00\", \"2004-02-10T00:00:00\", \"2004-03-01T00:00:00\", \"2004-04-02T00:00:00\", \"2004-04-04T00:00:00\", \"2004-05-02T00:00:00\", \"2004-06-03T00:00:00\", \"2004-06-03T00:00:00\", \"2004-06-29T00:00:00\", \"2004-07-29T00:00:00\", \"2004-08-11T00:00:00\", \"2004-08-28T00:00:00\", \"2004-09-29T00:00:00\", \"2004-10-05T00:00:00\", \"2004-10-29T00:00:00\", \"2004-11-28T00:00:00\", \"2004-12-01T00:00:00\", \"2005-01-02T00:00:00\", \"2005-02-01T00:00:00\", \"2005-02-03T00:00:00\", \"2005-03-03T00:00:00\", \"2005-03-28T00:00:00\", \"2005-03-30T00:00:00\", \"2005-05-07T00:00:00\", \"2005-06-01T00:00:00\", \"2005-06-03T00:00:00\", \"2005-06-29T00:00:00\", \"2005-07-29T00:00:00\", \"2005-08-02T00:00:00\", \"2005-09-02T00:00:00\", \"2005-09-27T00:00:00\", \"2005-10-06T00:00:00\", \"2005-10-29T00:00:00\", \"2005-12-02T00:00:00\", \"2005-12-03T00:00:00\", \"2005-12-31T00:00:00\", \"2006-02-04T00:00:00\", \"2006-02-06T00:00:00\", \"2006-03-06T00:00:00\", \"2006-04-04T00:00:00\", \"2006-04-07T00:00:00\", \"2006-05-02T00:00:00\", \"2006-05-30T00:00:00\", \"2006-06-07T00:00:00\", \"2006-06-29T00:00:00\", \"2006-08-01T00:00:00\", \"2006-08-02T00:00:00\", \"2006-10-09T00:00:00\", \"2006-12-08T00:00:00\", \"2007-01-02T00:00:00\", \"2007-02-02T00:00:00\", \"2007-02-02T00:00:00\", \"2007-03-01T00:00:00\", \"2007-04-02T00:00:00\", \"2007-04-03T00:00:00\", \"2007-05-02T00:00:00\", \"2009-02-06T00:00:00\", \"2009-03-03T00:00:00\", \"2009-04-02T00:00:00\", \"2009-05-04T00:00:00\", \"2009-05-27T00:00:00\", \"2009-05-29T00:00:00\", \"2009-07-01T00:00:00\", \"2009-07-29T00:00:00\", \"2009-08-02T00:00:00\", \"2009-08-30T00:00:00\", \"2009-09-29T00:00:00\", \"2009-11-03T00:00:00\", \"2009-11-28T00:00:00\", \"2009-12-03T00:00:00\", \"2009-12-30T00:00:00\", \"2010-02-01T00:00:00\", \"2010-03-06T00:00:00\", \"2010-04-07T00:00:00\", \"2010-04-15T00:00:00\", \"2010-04-30T00:00:00\", \"2010-06-01T00:00:00\", \"2010-07-01T00:00:00\", \"2010-07-27T00:00:00\", \"2010-07-29T00:00:00\", \"2010-08-26T00:00:00\", \"2010-09-27T00:00:00\", \"2010-11-01T00:00:00\", \"2010-11-28T00:00:00\", \"2010-11-30T00:00:00\", \"2010-12-26T00:00:00\", \"2011-01-30T00:00:00\", \"2011-03-06T00:00:00\", \"2011-04-07T00:00:00\", \"2011-04-11T00:00:00\", \"2011-04-30T00:00:00\", \"2011-06-03T00:00:00\", \"2011-06-08T00:00:00\", \"2011-07-08T00:00:00\", \"2011-08-07T00:00:00\", \"2011-09-04T00:00:00\", \"2011-09-30T00:00:00\", \"2011-10-05T00:00:00\", \"2011-11-03T00:00:00\", \"2011-12-01T00:00:00\", \"2012-01-02T00:00:00\", \"2012-01-21T00:00:00\", \"2012-02-27T00:00:00\", \"2012-04-04T00:00:00\", \"2012-04-04T00:00:00\", \"2012-05-04T00:00:00\", \"2012-06-03T00:00:00\", \"2012-07-05T00:00:00\", \"2012-07-30T00:00:00\", \"2012-07-31T00:00:00\", \"2012-08-28T00:00:00\", \"2012-09-24T00:00:00\", \"2012-10-19T00:00:00\", \"2012-11-02T00:00:00\", \"2012-11-28T00:00:00\", \"2012-12-04T00:00:00\", \"2013-01-29T00:00:00\", \"2013-03-03T00:00:00\", \"2013-03-28T00:00:00\", \"2013-05-02T00:00:00\", \"2013-06-03T00:00:00\", \"2013-06-05T00:00:00\", \"2013-06-17T00:00:00\", \"2013-06-30T00:00:00\", \"2013-07-26T00:00:00\", \"2013-07-30T00:00:00\", \"2013-08-25T00:00:00\", \"2013-09-29T00:00:00\", \"2013-10-02T00:00:00\", \"2013-10-29T00:00:00\", \"2013-11-23T00:00:00\", \"2013-12-28T00:00:00\", \"2014-01-31T00:00:00\", \"2014-02-19T00:00:00\", \"2014-03-12T00:00:00\", \"2014-03-13T00:00:00\", \"2014-04-02T00:00:00\", \"2014-05-02T00:00:00\", \"2014-06-01T00:00:00\", \"2014-07-03T00:00:00\", \"2014-07-31T00:00:00\", \"2014-08-04T00:00:00\", \"2014-08-30T00:00:00\", \"2014-09-27T00:00:00\", \"2014-10-29T00:00:00\", \"2014-12-03T00:00:00\", \"2015-02-10T00:00:00\", \"2015-02-22T00:00:00\", \"2015-08-03T00:00:00\", \"2015-08-17T00:00:00\", \"2015-08-30T00:00:00\", \"2015-09-29T00:00:00\", \"2015-11-01T00:00:00\", \"2015-11-30T00:00:00\", \"2015-12-03T00:00:00\", \"2016-01-02T00:00:00\", \"2016-02-01T00:00:00\", \"2016-03-02T00:00:00\", \"2016-04-04T00:00:00\", \"2016-04-29T00:00:00\", \"2016-05-31T00:00:00\", \"2016-06-28T00:00:00\", \"2016-07-27T00:00:00\", \"2016-07-30T00:00:00\", \"2016-09-01T00:00:00\", \"2016-10-01T00:00:00\", \"2016-10-12T00:00:00\", \"2016-10-29T00:00:00\", \"2016-12-02T00:00:00\", \"2016-12-30T00:00:00\", \"2017-01-29T00:00:00\", \"2017-02-02T00:00:00\", \"2017-03-04T00:00:00\", \"2017-04-02T00:00:00\", \"2017-04-29T00:00:00\", \"2017-05-26T00:00:00\", \"2017-05-31T00:00:00\", \"2018-02-01T00:00:00\", \"2018-09-07T00:00:00\", \"2018-12-03T00:00:00\", \"2019-04-03T00:00:00\", \"2019-08-06T00:00:00\", \"2019-09-04T00:00:00\", \"2019-10-03T00:00:00\", \"2019-12-06T00:00:00\", \"2020-02-06T00:00:00\"], \"xaxis\": \"x\", \"y\": [42.8, 35.16, 37.47, 37.47, 37.47, 37.47, 35.16, 37.47, 35.16, 35.16, 35.16, 37.47, 37.47, 35.16, 35.16, 35.16, 35.16, 32.85, 32.85, 25.92, 30.54, 32.85, 28.23, 31.7, 32.85, 22.46, 31.7, 36.55, 35.93, 32.85, 33.78, 35.16, 34.93, 36.32, 33.08, 36.55, 36.55, 22.22, 19.68, 30.54, 34.24, 36.55, 35.16, 36.08, 37.01, 35.62, 37.47, 35.62, 35.62, 35.39, 36.55, 37.7, 37.47, 37.47, 27.97, 37.67, 37.67, 38.67, 38.67, 37.47, 37.97, 36.97, 37.27, 38.37, 38.67, 38.37, 41.17, 39.57, 39.77, 40.27, 37.97, 36.97, 36.57, 36.27, 36.97, 36.07, 37.47, 37.97, 37.47, 38.37, 36.57, 36.77, 37.47, 38.37, 38.67, 38.37, 38.87, 39.27, 34.67, 37.47, 37.47, 35.16, 35.39, 36.31, 37.68, 37.01, 38.16, 38.63, 37.01, 35.89, 37.01, 36.78, 35.89, 36.55, 37.02, 37.02, 36.78, 36.32, 37.93, 36.08, 37.47, 36.32, 35.62, 35.62, 36.32, 36.55, 36.08, 31.23, 36.31, 37.47, 37.65, 35.28, 36.82, 35.16, 33.2, 34.07, 33.84, 32.28, 34.29, 35.15, 34.93, 36.62, 37.14, 35.85, 37.6, 37.05, 37.95, 38.15, 34.47, 37.86, 37.05, 36.51, 34.54, 34.88, 34.61, 34.14, 35.18, 34.99, 34.58, 35.58, 36.31, 35.02, 37.12, 37.79, 35.62, 37.88, 38.0, 35.86, 37.21, 36.87, 33.77, 35.04, 34.48, 33.77, 34.99, 36.55, 35.89, 36.43, 37.04, 37.24, 37.01, 37.24, 37.26, 36.96, 37.12, 35.62, 36.64, 35.42, 34.69, 33.08, 32.64, 35.11, 35.35, 34.19, 36.01, 36.22, 35.85, 36.51, 35.37, 36.01, 36.22, 36.58, 36.7, 35.28, 36.04, 33.31, 34.92, 33.35, 32.97, 33.35, 34.03, 33.36, 34.98, 35.86, 36.24, 36.65, 35.39, 37.0, 36.93, 36.79, 34.24, 36.28, 35.43, 35.04, 35.78, 36.19, 35.86, 36.84, 36.98, 37.77, 38.51, null, 40.05, 37.47, 39.41, 39.52, 39.17, 38.34, 37.86, 36.13, 37.54, 37.85, 38.49, 39.33, 39.48, 39.77, 37.67, 40.09, 40.16, 40.06, 36.97, 39.59, 38.59, 37.86, 37.77, 37.85, 38.97, 38.97, 38.97, 39.56, 40.02, 40.09, 39.99, 37.47, 37.89, 38.76, 37.93, 36.55, 36.82, 36.33, 35.04, 37.0, 37.47, 37.86, 38.25, 38.22, 38.39, 37.93, 39.98, 40.2, 40.1, 39.87, 38.9, 36.31, 37.9, 37.76, 37.76, 38.07, 39.09, 39.2, 34.58, 34.01, 35.94, 35.62, 35.97, 35.62, 36.55, 36.99, 37.78, 38.2, 38.42, 38.86, 38.86, 38.27, 35.78, 37.41, 36.52, 35.86, 33.8, 36.19, 36.7, 36.98, 37.26, 35.39, 37.86, 38.18, 38.57, 36.08, 38.64, 35.16, 34.23, 3.4, 3.15, 3.1, 3.5, 3.1, 2.8, 2.4], \"yaxis\": \"y\"}],\n",
       "                        {\"legend\": {\"tracegroupgap\": 0}, \"margin\": {\"t\": 60}, \"template\": {\"data\": {\"bar\": [{\"error_x\": {\"color\": \"#2a3f5f\"}, \"error_y\": {\"color\": \"#2a3f5f\"}, \"marker\": {\"line\": {\"color\": \"#E5ECF6\", \"width\": 0.5}}, \"type\": \"bar\"}], \"barpolar\": [{\"marker\": {\"line\": {\"color\": \"#E5ECF6\", \"width\": 0.5}}, \"type\": \"barpolar\"}], \"carpet\": [{\"aaxis\": {\"endlinecolor\": \"#2a3f5f\", \"gridcolor\": \"white\", \"linecolor\": \"white\", \"minorgridcolor\": \"white\", \"startlinecolor\": \"#2a3f5f\"}, \"baxis\": {\"endlinecolor\": \"#2a3f5f\", \"gridcolor\": \"white\", \"linecolor\": \"white\", \"minorgridcolor\": \"white\", \"startlinecolor\": \"#2a3f5f\"}, \"type\": \"carpet\"}], \"choropleth\": [{\"colorbar\": {\"outlinewidth\": 0, \"ticks\": \"\"}, \"type\": \"choropleth\"}], \"contour\": [{\"colorbar\": {\"outlinewidth\": 0, \"ticks\": \"\"}, \"colorscale\": [[0.0, \"#0d0887\"], [0.1111111111111111, \"#46039f\"], [0.2222222222222222, \"#7201a8\"], [0.3333333333333333, \"#9c179e\"], [0.4444444444444444, \"#bd3786\"], [0.5555555555555556, \"#d8576b\"], [0.6666666666666666, \"#ed7953\"], [0.7777777777777778, \"#fb9f3a\"], [0.8888888888888888, \"#fdca26\"], [1.0, \"#f0f921\"]], \"type\": \"contour\"}], \"contourcarpet\": [{\"colorbar\": {\"outlinewidth\": 0, \"ticks\": \"\"}, \"type\": \"contourcarpet\"}], \"heatmap\": [{\"colorbar\": {\"outlinewidth\": 0, \"ticks\": \"\"}, \"colorscale\": [[0.0, \"#0d0887\"], [0.1111111111111111, \"#46039f\"], [0.2222222222222222, \"#7201a8\"], [0.3333333333333333, \"#9c179e\"], [0.4444444444444444, \"#bd3786\"], [0.5555555555555556, \"#d8576b\"], [0.6666666666666666, \"#ed7953\"], [0.7777777777777778, \"#fb9f3a\"], [0.8888888888888888, \"#fdca26\"], [1.0, \"#f0f921\"]], \"type\": \"heatmap\"}], \"heatmapgl\": [{\"colorbar\": {\"outlinewidth\": 0, \"ticks\": \"\"}, \"colorscale\": [[0.0, \"#0d0887\"], [0.1111111111111111, \"#46039f\"], [0.2222222222222222, \"#7201a8\"], [0.3333333333333333, \"#9c179e\"], [0.4444444444444444, \"#bd3786\"], [0.5555555555555556, \"#d8576b\"], [0.6666666666666666, \"#ed7953\"], [0.7777777777777778, \"#fb9f3a\"], [0.8888888888888888, \"#fdca26\"], [1.0, \"#f0f921\"]], \"type\": \"heatmapgl\"}], \"histogram\": [{\"marker\": {\"colorbar\": {\"outlinewidth\": 0, \"ticks\": \"\"}}, \"type\": \"histogram\"}], \"histogram2d\": [{\"colorbar\": {\"outlinewidth\": 0, \"ticks\": \"\"}, \"colorscale\": [[0.0, \"#0d0887\"], [0.1111111111111111, \"#46039f\"], [0.2222222222222222, \"#7201a8\"], [0.3333333333333333, \"#9c179e\"], [0.4444444444444444, \"#bd3786\"], [0.5555555555555556, \"#d8576b\"], [0.6666666666666666, \"#ed7953\"], [0.7777777777777778, \"#fb9f3a\"], [0.8888888888888888, \"#fdca26\"], [1.0, \"#f0f921\"]], \"type\": \"histogram2d\"}], \"histogram2dcontour\": [{\"colorbar\": {\"outlinewidth\": 0, \"ticks\": \"\"}, \"colorscale\": [[0.0, \"#0d0887\"], [0.1111111111111111, \"#46039f\"], [0.2222222222222222, \"#7201a8\"], [0.3333333333333333, \"#9c179e\"], [0.4444444444444444, \"#bd3786\"], [0.5555555555555556, \"#d8576b\"], [0.6666666666666666, \"#ed7953\"], [0.7777777777777778, \"#fb9f3a\"], [0.8888888888888888, \"#fdca26\"], [1.0, \"#f0f921\"]], \"type\": \"histogram2dcontour\"}], \"mesh3d\": [{\"colorbar\": {\"outlinewidth\": 0, \"ticks\": \"\"}, \"type\": \"mesh3d\"}], \"parcoords\": [{\"line\": {\"colorbar\": {\"outlinewidth\": 0, \"ticks\": \"\"}}, \"type\": \"parcoords\"}], \"pie\": [{\"automargin\": true, \"type\": \"pie\"}], \"scatter\": [{\"marker\": {\"colorbar\": {\"outlinewidth\": 0, \"ticks\": \"\"}}, \"type\": \"scatter\"}], \"scatter3d\": [{\"line\": {\"colorbar\": {\"outlinewidth\": 0, \"ticks\": \"\"}}, \"marker\": {\"colorbar\": {\"outlinewidth\": 0, \"ticks\": \"\"}}, \"type\": \"scatter3d\"}], \"scattercarpet\": [{\"marker\": {\"colorbar\": {\"outlinewidth\": 0, \"ticks\": \"\"}}, \"type\": \"scattercarpet\"}], \"scattergeo\": [{\"marker\": {\"colorbar\": {\"outlinewidth\": 0, \"ticks\": \"\"}}, \"type\": \"scattergeo\"}], \"scattergl\": [{\"marker\": {\"colorbar\": {\"outlinewidth\": 0, \"ticks\": \"\"}}, \"type\": \"scattergl\"}], \"scattermapbox\": [{\"marker\": {\"colorbar\": {\"outlinewidth\": 0, \"ticks\": \"\"}}, \"type\": \"scattermapbox\"}], \"scatterpolar\": [{\"marker\": {\"colorbar\": {\"outlinewidth\": 0, \"ticks\": \"\"}}, \"type\": \"scatterpolar\"}], \"scatterpolargl\": [{\"marker\": {\"colorbar\": {\"outlinewidth\": 0, \"ticks\": \"\"}}, \"type\": \"scatterpolargl\"}], \"scatterternary\": [{\"marker\": {\"colorbar\": {\"outlinewidth\": 0, \"ticks\": \"\"}}, \"type\": \"scatterternary\"}], \"surface\": [{\"colorbar\": {\"outlinewidth\": 0, \"ticks\": \"\"}, \"colorscale\": [[0.0, \"#0d0887\"], [0.1111111111111111, \"#46039f\"], [0.2222222222222222, \"#7201a8\"], [0.3333333333333333, \"#9c179e\"], [0.4444444444444444, \"#bd3786\"], [0.5555555555555556, \"#d8576b\"], [0.6666666666666666, \"#ed7953\"], [0.7777777777777778, \"#fb9f3a\"], [0.8888888888888888, \"#fdca26\"], [1.0, \"#f0f921\"]], \"type\": \"surface\"}], \"table\": [{\"cells\": {\"fill\": {\"color\": \"#EBF0F8\"}, \"line\": {\"color\": \"white\"}}, \"header\": {\"fill\": {\"color\": \"#C8D4E3\"}, \"line\": {\"color\": \"white\"}}, \"type\": \"table\"}]}, \"layout\": {\"annotationdefaults\": {\"arrowcolor\": \"#2a3f5f\", \"arrowhead\": 0, \"arrowwidth\": 1}, \"coloraxis\": {\"colorbar\": {\"outlinewidth\": 0, \"ticks\": \"\"}}, \"colorscale\": {\"diverging\": [[0, \"#8e0152\"], [0.1, \"#c51b7d\"], [0.2, \"#de77ae\"], [0.3, \"#f1b6da\"], [0.4, \"#fde0ef\"], [0.5, \"#f7f7f7\"], [0.6, \"#e6f5d0\"], [0.7, \"#b8e186\"], [0.8, \"#7fbc41\"], [0.9, \"#4d9221\"], [1, \"#276419\"]], \"sequential\": [[0.0, \"#0d0887\"], [0.1111111111111111, \"#46039f\"], [0.2222222222222222, \"#7201a8\"], [0.3333333333333333, \"#9c179e\"], [0.4444444444444444, \"#bd3786\"], [0.5555555555555556, \"#d8576b\"], [0.6666666666666666, \"#ed7953\"], [0.7777777777777778, \"#fb9f3a\"], [0.8888888888888888, \"#fdca26\"], [1.0, \"#f0f921\"]], \"sequentialminus\": [[0.0, \"#0d0887\"], [0.1111111111111111, \"#46039f\"], [0.2222222222222222, \"#7201a8\"], [0.3333333333333333, \"#9c179e\"], [0.4444444444444444, \"#bd3786\"], [0.5555555555555556, \"#d8576b\"], [0.6666666666666666, \"#ed7953\"], [0.7777777777777778, \"#fb9f3a\"], [0.8888888888888888, \"#fdca26\"], [1.0, \"#f0f921\"]]}, \"colorway\": [\"#636efa\", \"#EF553B\", \"#00cc96\", \"#ab63fa\", \"#FFA15A\", \"#19d3f3\", \"#FF6692\", \"#B6E880\", \"#FF97FF\", \"#FECB52\"], \"font\": {\"color\": \"#2a3f5f\"}, \"geo\": {\"bgcolor\": \"white\", \"lakecolor\": \"white\", \"landcolor\": \"#E5ECF6\", \"showlakes\": true, \"showland\": true, \"subunitcolor\": \"white\"}, \"hoverlabel\": {\"align\": \"left\"}, \"hovermode\": \"closest\", \"mapbox\": {\"style\": \"light\"}, \"paper_bgcolor\": \"white\", \"plot_bgcolor\": \"#E5ECF6\", \"polar\": {\"angularaxis\": {\"gridcolor\": \"white\", \"linecolor\": \"white\", \"ticks\": \"\"}, \"bgcolor\": \"#E5ECF6\", \"radialaxis\": {\"gridcolor\": \"white\", \"linecolor\": \"white\", \"ticks\": \"\"}}, \"scene\": {\"xaxis\": {\"backgroundcolor\": \"#E5ECF6\", \"gridcolor\": \"white\", \"gridwidth\": 2, \"linecolor\": \"white\", \"showbackground\": true, \"ticks\": \"\", \"zerolinecolor\": \"white\"}, \"yaxis\": {\"backgroundcolor\": \"#E5ECF6\", \"gridcolor\": \"white\", \"gridwidth\": 2, \"linecolor\": \"white\", \"showbackground\": true, \"ticks\": \"\", \"zerolinecolor\": \"white\"}, \"zaxis\": {\"backgroundcolor\": \"#E5ECF6\", \"gridcolor\": \"white\", \"gridwidth\": 2, \"linecolor\": \"white\", \"showbackground\": true, \"ticks\": \"\", \"zerolinecolor\": \"white\"}}, \"shapedefaults\": {\"line\": {\"color\": \"#2a3f5f\"}}, \"ternary\": {\"aaxis\": {\"gridcolor\": \"white\", \"linecolor\": \"white\", \"ticks\": \"\"}, \"baxis\": {\"gridcolor\": \"white\", \"linecolor\": \"white\", \"ticks\": \"\"}, \"bgcolor\": \"#E5ECF6\", \"caxis\": {\"gridcolor\": \"white\", \"linecolor\": \"white\", \"ticks\": \"\"}}, \"title\": {\"x\": 0.05}, \"xaxis\": {\"automargin\": true, \"gridcolor\": \"white\", \"linecolor\": \"white\", \"ticks\": \"\", \"title\": {\"standoff\": 15}, \"zerolinecolor\": \"white\", \"zerolinewidth\": 2}, \"yaxis\": {\"automargin\": true, \"gridcolor\": \"white\", \"linecolor\": \"white\", \"ticks\": \"\", \"title\": {\"standoff\": 15}, \"zerolinecolor\": \"white\", \"zerolinewidth\": 2}}}, \"xaxis\": {\"anchor\": \"y\", \"domain\": [0.0, 1.0], \"title\": {\"text\": \"x\"}}, \"yaxis\": {\"anchor\": \"x\", \"domain\": [0.0, 1.0], \"title\": {\"text\": \"y\"}}},\n",
       "                        {\"responsive\": true}\n",
       "                    ).then(function(){\n",
       "                            \n",
       "var gd = document.getElementById('9c86a11a-9e8a-47af-9089-6f49eb408c98');\n",
       "var x = new MutationObserver(function (mutations, observer) {{\n",
       "        var display = window.getComputedStyle(gd).display;\n",
       "        if (!display || display === 'none') {{\n",
       "            console.log([gd, 'removed!']);\n",
       "            Plotly.purge(gd);\n",
       "            observer.disconnect();\n",
       "        }}\n",
       "}});\n",
       "\n",
       "// Listen for the removal of the full notebook cells\n",
       "var notebookContainer = gd.closest('#notebook-container');\n",
       "if (notebookContainer) {{\n",
       "    x.observe(notebookContainer, {childList: true});\n",
       "}}\n",
       "\n",
       "// Listen for the clearing of the current output cell\n",
       "var outputEl = gd.closest('.output');\n",
       "if (outputEl) {{\n",
       "    x.observe(outputEl, {childList: true});\n",
       "}}\n",
       "\n",
       "                        })\n",
       "                };\n",
       "                });\n",
       "            </script>\n",
       "        </div>"
      ]
     },
     "metadata": {},
     "output_type": "display_data"
    }
   ],
   "source": [
    "import plotly.express as px\n",
    "fig = px.line(selected_well,x = selected_well.index, y =selected_well.values)\n",
    "fig.show()"
   ]
  },
  {
   "cell_type": "code",
   "execution_count": 7,
   "metadata": {},
   "outputs": [
    {
     "data": {
      "text/html": [
       "<div>\n",
       "<style scoped>\n",
       "    .dataframe tbody tr th:only-of-type {\n",
       "        vertical-align: middle;\n",
       "    }\n",
       "\n",
       "    .dataframe tbody tr th {\n",
       "        vertical-align: top;\n",
       "    }\n",
       "\n",
       "    .dataframe thead th {\n",
       "        text-align: right;\n",
       "    }\n",
       "</style>\n",
       "<table border=\"1\" class=\"dataframe\">\n",
       "  <thead>\n",
       "    <tr style=\"text-align: right;\">\n",
       "      <th></th>\n",
       "      <th>Unnamed: 0</th>\n",
       "      <th>Location_Key</th>\n",
       "      <th>Depth</th>\n",
       "      <th>Diameter</th>\n",
       "      <th>Owner</th>\n",
       "      <th>Lat</th>\n",
       "      <th>Lon</th>\n",
       "    </tr>\n",
       "  </thead>\n",
       "  <tbody>\n",
       "    <tr>\n",
       "      <th>0</th>\n",
       "      <td>0</td>\n",
       "      <td>AAA001</td>\n",
       "      <td>746.0</td>\n",
       "      <td>16.0</td>\n",
       "      <td>KITSAP COUNTY P U D #1</td>\n",
       "      <td>47.700758</td>\n",
       "      <td>-122.627431</td>\n",
       "    </tr>\n",
       "    <tr>\n",
       "      <th>1</th>\n",
       "      <td>1</td>\n",
       "      <td>AAA002</td>\n",
       "      <td>1032.0</td>\n",
       "      <td>20.0</td>\n",
       "      <td>KITSAP COUNTY P.U.D.</td>\n",
       "      <td>47.684675</td>\n",
       "      <td>-122.633792</td>\n",
       "    </tr>\n",
       "    <tr>\n",
       "      <th>2</th>\n",
       "      <td>2</td>\n",
       "      <td>AAA005</td>\n",
       "      <td>301.0</td>\n",
       "      <td>8.0</td>\n",
       "      <td>UW Real Estate Office</td>\n",
       "      <td>47.644269</td>\n",
       "      <td>-122.782864</td>\n",
       "    </tr>\n",
       "    <tr>\n",
       "      <th>3</th>\n",
       "      <td>3</td>\n",
       "      <td>AAA007</td>\n",
       "      <td>157.0</td>\n",
       "      <td>6.0</td>\n",
       "      <td>HOLLY WATER SYSTEM INC</td>\n",
       "      <td>47.557628</td>\n",
       "      <td>-122.978817</td>\n",
       "    </tr>\n",
       "    <tr>\n",
       "      <th>4</th>\n",
       "      <td>4</td>\n",
       "      <td>AAA008</td>\n",
       "      <td>NaN</td>\n",
       "      <td>6.0</td>\n",
       "      <td>HOLLY WATER SYSTEM</td>\n",
       "      <td>47.555519</td>\n",
       "      <td>-122.980400</td>\n",
       "    </tr>\n",
       "    <tr>\n",
       "      <th>...</th>\n",
       "      <td>...</td>\n",
       "      <td>...</td>\n",
       "      <td>...</td>\n",
       "      <td>...</td>\n",
       "      <td>...</td>\n",
       "      <td>...</td>\n",
       "      <td>...</td>\n",
       "    </tr>\n",
       "    <tr>\n",
       "      <th>139</th>\n",
       "      <td>139</td>\n",
       "      <td>AKR190</td>\n",
       "      <td>135.0</td>\n",
       "      <td>8.0</td>\n",
       "      <td>PUD NO 1 OF KITSAP CO</td>\n",
       "      <td>47.479133</td>\n",
       "      <td>-122.529425</td>\n",
       "    </tr>\n",
       "    <tr>\n",
       "      <th>140</th>\n",
       "      <td>140</td>\n",
       "      <td>ALK129</td>\n",
       "      <td>440.0</td>\n",
       "      <td>16.0</td>\n",
       "      <td>KITSAP CO PUD 1</td>\n",
       "      <td>47.805428</td>\n",
       "      <td>-122.506822</td>\n",
       "    </tr>\n",
       "    <tr>\n",
       "      <th>141</th>\n",
       "      <td>141</td>\n",
       "      <td>ALK301</td>\n",
       "      <td>743.0</td>\n",
       "      <td>12.0</td>\n",
       "      <td>KITSAP PUD</td>\n",
       "      <td>47.613222</td>\n",
       "      <td>-122.819722</td>\n",
       "    </tr>\n",
       "    <tr>\n",
       "      <th>142</th>\n",
       "      <td>142</td>\n",
       "      <td>AHB466</td>\n",
       "      <td>71.0</td>\n",
       "      <td>6.0</td>\n",
       "      <td>STEVE VELIE</td>\n",
       "      <td>47.808929</td>\n",
       "      <td>-122.518709</td>\n",
       "    </tr>\n",
       "    <tr>\n",
       "      <th>143</th>\n",
       "      <td>143</td>\n",
       "      <td>BHN761</td>\n",
       "      <td>90.0</td>\n",
       "      <td>6.0</td>\n",
       "      <td>POPE RESOUORCES | GOLDER ASSOCIATES</td>\n",
       "      <td>47.843978</td>\n",
       "      <td>-122.592942</td>\n",
       "    </tr>\n",
       "  </tbody>\n",
       "</table>\n",
       "<p>144 rows × 7 columns</p>\n",
       "</div>"
      ],
      "text/plain": [
       "     Unnamed: 0 Location_Key   Depth  Diameter  \\\n",
       "0             0       AAA001   746.0      16.0   \n",
       "1             1       AAA002  1032.0      20.0   \n",
       "2             2       AAA005   301.0       8.0   \n",
       "3             3       AAA007   157.0       6.0   \n",
       "4             4       AAA008     NaN       6.0   \n",
       "..          ...          ...     ...       ...   \n",
       "139         139       AKR190   135.0       8.0   \n",
       "140         140       ALK129   440.0      16.0   \n",
       "141         141       ALK301   743.0      12.0   \n",
       "142         142       AHB466    71.0       6.0   \n",
       "143         143       BHN761    90.0       6.0   \n",
       "\n",
       "                                   Owner        Lat         Lon  \n",
       "0                 KITSAP COUNTY P U D #1  47.700758 -122.627431  \n",
       "1                   KITSAP COUNTY P.U.D.  47.684675 -122.633792  \n",
       "2                  UW Real Estate Office  47.644269 -122.782864  \n",
       "3                 HOLLY WATER SYSTEM INC  47.557628 -122.978817  \n",
       "4                     HOLLY WATER SYSTEM  47.555519 -122.980400  \n",
       "..                                   ...        ...         ...  \n",
       "139                PUD NO 1 OF KITSAP CO  47.479133 -122.529425  \n",
       "140                      KITSAP CO PUD 1  47.805428 -122.506822  \n",
       "141                           KITSAP PUD  47.613222 -122.819722  \n",
       "142                          STEVE VELIE  47.808929 -122.518709  \n",
       "143  POPE RESOUORCES | GOLDER ASSOCIATES  47.843978 -122.592942  \n",
       "\n",
       "[144 rows x 7 columns]"
      ]
     },
     "execution_count": 7,
     "metadata": {},
     "output_type": "execute_result"
    }
   ],
   "source": [
    "well_locations"
   ]
  },
  {
   "cell_type": "markdown",
   "metadata": {},
   "source": [
    "# Mapping with Plotly"
   ]
  },
  {
   "cell_type": "code",
   "execution_count": 42,
   "metadata": {},
   "outputs": [
    {
     "data": {
      "application/vnd.plotly.v1+json": {
       "config": {
        "plotlyServerURL": "https://plot.ly"
       },
       "data": [
        {
         "hovertemplate": "<b>%{hovertext}</b><br><br>Location_Type=Discharge Station<br>Lat=%{lat}<br>Lon=%{lon}<extra></extra>",
         "hovertext": [
          "BB",
          "BU",
          "CC",
          "CC",
          "CT",
          "CU",
          "CW",
          "DC",
          "KC",
          "OL",
          "SL",
          "AC",
          "BA",
          "BC",
          "BL",
          "GO",
          "HC",
          "WC",
          "AN",
          "CE",
          "CH",
          "DI",
          "DR",
          "GA",
          "GC",
          "GV",
          "HE",
          "IL",
          "KL",
          "LJ",
          "LT",
          "OC",
          "MZ",
          "PA",
          "SC",
          "SE",
          "SH",
          "ST",
          "TR",
          "UR"
         ],
         "lat": [
          47.655599,
          47.5931,
          47.661483,
          47.665075,
          47.586061,
          47.505354,
          47.66992,
          47.752384,
          47.579805,
          47.429222,
          47.650491,
          47.523747,
          47.638989,
          47.414426,
          47.502076,
          47.554961,
          47.884512,
          47.601172,
          47.567091,
          47.6675,
          47.5933,
          47.58409,
          47.4615,
          47.7889,
          47.52673400000001,
          47.780088,
          47.531089,
          47.611257,
          47.5797,
          47.733502,
          47.4380555556,
          47.5441,
          47.674146,
          47.529178,
          47.646689,
          47.634864,
          47.628681,
          47.624442,
          47.4375,
          47.4641
         ],
         "legendgroup": "Discharge Station",
         "lon": [
          -122.785862,
          -122.837,
          -122.682049,
          -122.682536,
          -122.716311,
          -122.567265,
          -122.691508,
          -122.644918,
          -122.712196,
          -122.567544,
          -122.632021,
          -122.682422,
          -122.666892,
          -122.631395,
          -122.647775,
          -122.827203,
          -122.573691,
          -122.758669,
          -122.968115,
          -122.6817,
          -122.7075,
          -122.715992,
          -123.0265,
          -122.5799,
          -122.705457,
          -122.556371,
          -122.715669,
          -122.611743,
          -122.7103,
          -122.662861,
          -122.95027777799999,
          -122.6117,
          -122.553551,
          -122.713903,
          -122.695846,
          -122.836073,
          -122.837611,
          -122.874691,
          -122.9531,
          -122.83
         ],
         "marker": {
          "color": "#636efa"
         },
         "mode": "markers",
         "name": "Discharge Station",
         "showlegend": true,
         "subplot": "mapbox",
         "type": "scattermapbox"
        },
        {
         "hovertemplate": "<b>%{hovertext}</b><br><br>Location_Type=Well<br>Lat=%{lat}<br>Lon=%{lon}<extra></extra>",
         "hovertext": [
          "AAA001",
          "AAA002",
          "AAA005",
          "AAA007",
          "AAA008",
          "AAA011",
          "AAA012",
          "AAA013",
          "AAA014",
          "AAA015",
          "AAA016",
          "AAA103",
          "AAA104",
          "AAA106",
          "AAA107",
          "AAA108",
          "AAA109",
          "AAA110",
          "AAA111",
          "AAA113",
          "AAA114",
          "AAA120",
          "AAA227",
          "AAA230",
          "AAA231",
          "AAA235",
          "AAA236",
          "AAA238",
          "AAA304",
          "AAA398",
          "AAA639",
          "AAA706",
          "AAA707",
          "AAA710",
          "AAA711",
          "AAA713",
          "AAA715",
          "AAA717",
          "AAA718",
          "AAA722",
          "AAA875",
          "AAA990",
          "AAB274",
          "AAB401",
          "AAB406",
          "AAB407",
          "AAB408",
          "AAB410",
          "AAB454",
          "AAB455",
          "AAB458",
          "AAB459",
          "AAB460",
          "AAB464",
          "AAB471",
          "AAB476",
          "AAB478",
          "AAB479",
          "AAB526",
          "AAB533",
          "AAB607",
          "AAC006",
          "AAC079",
          "AAC110",
          "AAC113",
          "AAC117",
          "AAC118",
          "AAC119",
          "AAC318",
          "AAC340",
          "AAC344",
          "AAC345",
          "AAC377",
          "AAC403",
          "AAC532",
          "AAC547",
          "AAC558",
          "AAC601",
          "AAC606",
          "AAC707",
          "AAC718",
          "AAC720",
          "AAC759",
          "AAC799",
          "AAC807",
          "AAC809",
          "AAC820",
          "AAC824",
          "AAC825",
          "AAC826",
          "AAC832",
          "AAC835",
          "AAC839",
          "ABB943",
          "AAS286",
          "ABC665",
          "ABE865",
          "ABP505",
          "ABP540",
          "ABP933",
          "ABV298",
          "ACC503",
          "ACD351",
          "ACD352",
          "ACD354",
          "ACD354",
          "ACD355",
          "ACD357",
          "ACD358",
          "ACD373",
          "ACD374",
          "ACD385",
          "ACD855",
          "ACG501",
          "ACG504",
          "ACG506",
          "ACK364",
          "ACK368",
          "ACK369",
          "ACK371",
          "ACK372",
          "ACK373",
          "ACK457",
          "ACR352",
          "ACR353",
          "ACR354",
          "ACR355",
          "ACR356",
          "ACW030",
          "AEC948",
          "AEK852",
          "AEK853",
          "AES172",
          "AES249",
          "AES259",
          "AES313",
          "AES315",
          "AET413",
          "AFC506",
          "AKR190",
          "ALK129",
          "ALK301",
          "AHB466",
          "BHN761"
         ],
         "lat": [
          47.700758333333305,
          47.684675,
          47.6442694444444,
          47.557627777777796,
          47.5555194444444,
          47.7872111111111,
          47.7871527777778,
          47.7509083333333,
          47.752141666666695,
          47.8018083333333,
          47.8135833333333,
          47.8015888888889,
          47.78014722222221,
          47.805525,
          47.8023861111111,
          47.616208333333304,
          47.616138888888905,
          47.646641666666696,
          47.6405277777778,
          47.67122777777779,
          47.5962611111111,
          47.569025,
          47.405002777777796,
          47.440877777777786,
          47.884416666666695,
          47.638952777777796,
          47.440444444444395,
          47.6137861111111,
          47.8833861111111,
          47.756169444444396,
          47.501475,
          47.8135833333333,
          47.7869555555556,
          47.7420361111111,
          47.716938888888905,
          47.7327416666667,
          47.7456222222222,
          47.75340277777779,
          47.7295916666667,
          47.7685083333333,
          47.6317666666667,
          47.634475,
          47.6303694444444,
          47.804575,
          47.7520861111111,
          47.7522222222222,
          47.75402222222221,
          47.7513194444444,
          47.733275,
          47.672541666666696,
          47.7704722222222,
          47.772947222222214,
          47.569288888888906,
          47.8090166666667,
          47.6167083333333,
          47.61597222222221,
          47.8032944444444,
          47.7608027777778,
          47.803302777777795,
          47.8301805555556,
          47.614786111111094,
          47.6177638968362,
          47.8765583333333,
          47.6733361111111,
          47.6164972,
          47.80825,
          47.803485905555604,
          47.8070532777778,
          47.6559055555556,
          47.684741666666696,
          47.4837055555556,
          47.483572222222215,
          47.6296027777778,
          47.8545833333333,
          47.815755555555604,
          47.646641666666696,
          47.6658333333333,
          47.8085916666667,
          47.704608333333304,
          47.616738888888904,
          47.812663888888906,
          47.8331805555556,
          47.704575,
          47.646441666666696,
          47.597630555555604,
          47.6494416666667,
          47.4127944444444,
          47.4791805555556,
          47.4459333333333,
          47.6724527777778,
          47.67332222222221,
          47.6377,
          47.5122916666667,
          47.813119444444396,
          47.617133,
          47.629127777777796,
          47.593888888888905,
          47.8220277777778,
          47.7522305555556,
          47.8438583333333,
          47.5103527777778,
          47.603913888888904,
          47.7271777777778,
          47.7657611111111,
          47.476188888888906,
          47.476188888888906,
          47.67142222222221,
          47.6206666666667,
          47.7148083333333,
          47.506313888888904,
          47.7062277777778,
          47.7787805555556,
          47.7739305555556,
          47.6353194444444,
          47.613561111111096,
          47.7499333333333,
          47.6045194444444,
          47.57444722222221,
          47.6482194444444,
          47.5916805555556,
          47.6057111111111,
          47.6055888888889,
          47.483052777777786,
          47.5979222222222,
          47.597661111111094,
          47.6009,
          47.5953861111111,
          47.5954305555556,
          47.6044611111111,
          47.7521583333333,
          47.6725,
          47.6732305555556,
          47.7842444444444,
          47.84822777777779,
          47.7122611111111,
          47.648611111111094,
          47.8523,
          47.6134583333333,
          47.8016805555555,
          47.4791333333333,
          47.80542777777779,
          47.61322222222221,
          47.8089293,
          47.8439776
         ],
         "legendgroup": "Well",
         "lon": [
          -122.62743059999998,
          -122.63379166666701,
          -122.78286388888901,
          -122.978816666667,
          -122.9804,
          -122.506125,
          -122.506144444444,
          -122.514427777778,
          -122.541491666667,
          -122.566238888889,
          -122.574888888889,
          -122.653991666667,
          -122.67640555555599,
          -122.506841666667,
          -122.495241666667,
          -122.536066666667,
          -122.53608888888901,
          -122.548947222222,
          -122.575227777778,
          -122.54568055555599,
          -122.84653888888901,
          -122.55858333333299,
          -122.569266666667,
          -122.72108611111099,
          -122.574575,
          -122.81430555555599,
          -122.637786111111,
          -122.503933333333,
          -122.54476388888901,
          -122.67774722222201,
          -122.661655555556,
          -122.574522222222,
          -122.506091666667,
          -122.55473333333299,
          -122.567919444444,
          -122.56698888888901,
          -122.575308333333,
          -122.569697222222,
          -122.558002777778,
          -122.48614444444401,
          -122.844311111111,
          -122.811444444444,
          -122.76759722222201,
          -122.49413611111099,
          -122.52553055555599,
          -122.524166650772,
          -122.527566666667,
          -122.53748055555599,
          -122.567722222222,
          -122.54946388888901,
          -122.70186944444401,
          -122.69848055555599,
          -122.55405555555599,
          -122.5525,
          -122.723447222222,
          -122.71468888888901,
          -122.665102777778,
          -122.54260833333299,
          -122.665177777778,
          -122.51990833333299,
          -122.84051944444401,
          -122.648024992053,
          -122.571266666667,
          -122.520630555556,
          -122.536261,
          -122.51583333333299,
          -122.48783979444401,
          -122.485624030556,
          -122.791125,
          -122.633716666667,
          -122.57028888888901,
          -122.572925,
          -122.755797222222,
          -122.6075,
          -122.487763888889,
          -122.81277222222201,
          -122.5775,
          -122.49965555555599,
          -122.54867222222201,
          -122.782866666667,
          -122.50340277777799,
          -122.541825,
          -122.548022222222,
          -122.79465555555599,
          -122.81863888888901,
          -122.789186111111,
          -122.553908333333,
          -122.529336111111,
          -122.661027777778,
          -122.549708333333,
          -122.520563888889,
          -122.828691666667,
          -122.77820277777799,
          -122.593627777778,
          -122.535725,
          -122.784844444444,
          -122.722675,
          -122.511927777778,
          -122.613533333333,
          -122.610375,
          -122.61653611111099,
          -122.772463888889,
          -122.59546666666701,
          -122.65300833333299,
          -122.60590555555599,
          -122.60590555555599,
          -122.70916388888901,
          -122.532163888889,
          -122.61036388888901,
          -122.548516666667,
          -122.602377777778,
          -122.488719444444,
          -122.512316666667,
          -122.758455555556,
          -122.819916666667,
          -122.69058611111099,
          -122.544977777778,
          -122.89112222222201,
          -122.777275,
          -122.835394444444,
          -122.770066666667,
          -122.770075,
          -122.664033333333,
          -122.82590833333299,
          -122.826047222222,
          -122.8264,
          -122.836288888889,
          -122.8349,
          -122.545563888889,
          -122.541602777778,
          -122.54955277777799,
          -122.547541666667,
          -122.673583333333,
          -122.603375,
          -122.61065,
          -122.842777777778,
          -122.596736111111,
          -122.819708333333,
          -122.654133333333,
          -122.529425,
          -122.506822222222,
          -122.819722222222,
          -122.5187088,
          -122.5929423
         ],
         "marker": {
          "color": "#EF553B"
         },
         "mode": "markers",
         "name": "Well",
         "showlegend": true,
         "subplot": "mapbox",
         "type": "scattermapbox"
        },
        {
         "hovertemplate": "<b>%{hovertext}</b><br><br>Location_Type=Rain Gauge<br>Lat=%{lat}<br>Lon=%{lon}<extra></extra>",
         "hovertext": [
          1,
          3,
          4,
          5,
          6,
          8,
          9,
          10,
          12,
          13,
          15,
          16,
          18,
          22,
          24,
          25,
          26,
          27,
          28,
          31,
          32,
          34,
          35,
          36,
          37,
          38,
          39,
          40,
          41,
          42,
          46,
          49,
          50,
          51,
          52,
          53,
          56,
          59,
          61,
          62,
          63,
          64,
          65,
          66,
          67,
          68,
          70,
          71,
          72,
          74,
          75,
          76,
          77,
          78
         ],
         "lat": [
          47.755115,
          47.7563888888889,
          47.77,
          47.6877777777778,
          47.49,
          47.5913888888889,
          47.56,
          47.4436,
          47.644444444444396,
          47.4075,
          47.7355555555556,
          47.6886111111111,
          47.5298,
          47.773333333333305,
          47.884366,
          47.55777777777779,
          47.618333333333304,
          47.527222222222214,
          47.787157,
          47.527222222222214,
          47.6669444444444,
          47.43277777777779,
          47.853344,
          47.735638,
          47.644444444444396,
          47.6483,
          47.6375,
          47.6136111111111,
          47.6394444444444,
          47.5216666666667,
          47.8136111111111,
          47.5227777777778,
          47.3905555555556,
          47.6475,
          47.6783333333333,
          47.7522222222222,
          47.7652777777778,
          47.801606,
          47.4919444444444,
          47.65152,
          47.6058333333333,
          47.4083333333333,
          47.4347222222,
          47.4130555555556,
          47.613446,
          47.83256,
          47.63232,
          47.587327,
          47.494538,
          47.84970300000001,
          47.728311,
          47.84967,
          47.563677,
          47.605667
         ],
         "legendgroup": "Rain Gauge",
         "lon": [
          -122.667651,
          -122.549722222222,
          -122.641666666667,
          -122.54,
          -122.76,
          -122.617777777778,
          -122.64,
          -122.6281,
          -122.52888888888901,
          -122.816944444444,
          -122.65805555555599,
          -122.699166666667,
          -122.7108,
          -122.556666666667,
          -122.57464,
          -122.9775,
          -122.6025,
          -122.621388888889,
          -122.506142,
          -122.78638888888901,
          -122.54,
          -122.573055555556,
          -122.594659,
          -122.645844,
          -122.84305555555599,
          -122.8483,
          -122.725833333333,
          -122.888333333333,
          -122.674444444444,
          -122.759166666667,
          -122.539444444444,
          -122.623055555556,
          -122.586388888889,
          -122.65861111111099,
          -122.659722222222,
          -122.61111111111099,
          -122.53111111111099,
          -122.654031,
          -122.765277777778,
          -122.694996,
          -122.76888888888901,
          -122.604166666667,
          -122.839722222,
          -122.552222222222,
          -122.819809,
          -122.542906,
          -122.662885,
          -122.720579,
          -122.623984,
          -122.547041,
          -122.559813,
          -122.54716,
          -122.672337,
          -122.523639
         ],
         "marker": {
          "color": "#00cc96"
         },
         "mode": "markers",
         "name": "Rain Gauge",
         "showlegend": true,
         "subplot": "mapbox",
         "type": "scattermapbox"
        }
       ],
       "layout": {
        "legend": {
         "title": {
          "text": "Location_Type"
         },
         "tracegroupgap": 0
        },
        "mapbox": {
         "accesstoken": "pk.eyJ1IjoiaW50ZXJuZXRnYXJldGgiLCJhIjoiY2pyaWFwOTd1MDB3ZzQ0bzE2Y3B6eWkxMCJ9.9fxAtjyCT5glHuPiK8ee0Q",
         "center": {
          "lat": 47.656909324753364,
          "lon": -122.65398904645681
         },
         "domain": {
          "x": [
           0,
           1
          ],
          "y": [
           0,
           1
          ]
         },
         "zoom": 10
        },
        "margin": {
         "t": 60
        },
        "template": {
         "data": {
          "bar": [
           {
            "error_x": {
             "color": "#2a3f5f"
            },
            "error_y": {
             "color": "#2a3f5f"
            },
            "marker": {
             "line": {
              "color": "#E5ECF6",
              "width": 0.5
             }
            },
            "type": "bar"
           }
          ],
          "barpolar": [
           {
            "marker": {
             "line": {
              "color": "#E5ECF6",
              "width": 0.5
             }
            },
            "type": "barpolar"
           }
          ],
          "carpet": [
           {
            "aaxis": {
             "endlinecolor": "#2a3f5f",
             "gridcolor": "white",
             "linecolor": "white",
             "minorgridcolor": "white",
             "startlinecolor": "#2a3f5f"
            },
            "baxis": {
             "endlinecolor": "#2a3f5f",
             "gridcolor": "white",
             "linecolor": "white",
             "minorgridcolor": "white",
             "startlinecolor": "#2a3f5f"
            },
            "type": "carpet"
           }
          ],
          "choropleth": [
           {
            "colorbar": {
             "outlinewidth": 0,
             "ticks": ""
            },
            "type": "choropleth"
           }
          ],
          "contour": [
           {
            "colorbar": {
             "outlinewidth": 0,
             "ticks": ""
            },
            "colorscale": [
             [
              0,
              "#0d0887"
             ],
             [
              0.1111111111111111,
              "#46039f"
             ],
             [
              0.2222222222222222,
              "#7201a8"
             ],
             [
              0.3333333333333333,
              "#9c179e"
             ],
             [
              0.4444444444444444,
              "#bd3786"
             ],
             [
              0.5555555555555556,
              "#d8576b"
             ],
             [
              0.6666666666666666,
              "#ed7953"
             ],
             [
              0.7777777777777778,
              "#fb9f3a"
             ],
             [
              0.8888888888888888,
              "#fdca26"
             ],
             [
              1,
              "#f0f921"
             ]
            ],
            "type": "contour"
           }
          ],
          "contourcarpet": [
           {
            "colorbar": {
             "outlinewidth": 0,
             "ticks": ""
            },
            "type": "contourcarpet"
           }
          ],
          "heatmap": [
           {
            "colorbar": {
             "outlinewidth": 0,
             "ticks": ""
            },
            "colorscale": [
             [
              0,
              "#0d0887"
             ],
             [
              0.1111111111111111,
              "#46039f"
             ],
             [
              0.2222222222222222,
              "#7201a8"
             ],
             [
              0.3333333333333333,
              "#9c179e"
             ],
             [
              0.4444444444444444,
              "#bd3786"
             ],
             [
              0.5555555555555556,
              "#d8576b"
             ],
             [
              0.6666666666666666,
              "#ed7953"
             ],
             [
              0.7777777777777778,
              "#fb9f3a"
             ],
             [
              0.8888888888888888,
              "#fdca26"
             ],
             [
              1,
              "#f0f921"
             ]
            ],
            "type": "heatmap"
           }
          ],
          "heatmapgl": [
           {
            "colorbar": {
             "outlinewidth": 0,
             "ticks": ""
            },
            "colorscale": [
             [
              0,
              "#0d0887"
             ],
             [
              0.1111111111111111,
              "#46039f"
             ],
             [
              0.2222222222222222,
              "#7201a8"
             ],
             [
              0.3333333333333333,
              "#9c179e"
             ],
             [
              0.4444444444444444,
              "#bd3786"
             ],
             [
              0.5555555555555556,
              "#d8576b"
             ],
             [
              0.6666666666666666,
              "#ed7953"
             ],
             [
              0.7777777777777778,
              "#fb9f3a"
             ],
             [
              0.8888888888888888,
              "#fdca26"
             ],
             [
              1,
              "#f0f921"
             ]
            ],
            "type": "heatmapgl"
           }
          ],
          "histogram": [
           {
            "marker": {
             "colorbar": {
              "outlinewidth": 0,
              "ticks": ""
             }
            },
            "type": "histogram"
           }
          ],
          "histogram2d": [
           {
            "colorbar": {
             "outlinewidth": 0,
             "ticks": ""
            },
            "colorscale": [
             [
              0,
              "#0d0887"
             ],
             [
              0.1111111111111111,
              "#46039f"
             ],
             [
              0.2222222222222222,
              "#7201a8"
             ],
             [
              0.3333333333333333,
              "#9c179e"
             ],
             [
              0.4444444444444444,
              "#bd3786"
             ],
             [
              0.5555555555555556,
              "#d8576b"
             ],
             [
              0.6666666666666666,
              "#ed7953"
             ],
             [
              0.7777777777777778,
              "#fb9f3a"
             ],
             [
              0.8888888888888888,
              "#fdca26"
             ],
             [
              1,
              "#f0f921"
             ]
            ],
            "type": "histogram2d"
           }
          ],
          "histogram2dcontour": [
           {
            "colorbar": {
             "outlinewidth": 0,
             "ticks": ""
            },
            "colorscale": [
             [
              0,
              "#0d0887"
             ],
             [
              0.1111111111111111,
              "#46039f"
             ],
             [
              0.2222222222222222,
              "#7201a8"
             ],
             [
              0.3333333333333333,
              "#9c179e"
             ],
             [
              0.4444444444444444,
              "#bd3786"
             ],
             [
              0.5555555555555556,
              "#d8576b"
             ],
             [
              0.6666666666666666,
              "#ed7953"
             ],
             [
              0.7777777777777778,
              "#fb9f3a"
             ],
             [
              0.8888888888888888,
              "#fdca26"
             ],
             [
              1,
              "#f0f921"
             ]
            ],
            "type": "histogram2dcontour"
           }
          ],
          "mesh3d": [
           {
            "colorbar": {
             "outlinewidth": 0,
             "ticks": ""
            },
            "type": "mesh3d"
           }
          ],
          "parcoords": [
           {
            "line": {
             "colorbar": {
              "outlinewidth": 0,
              "ticks": ""
             }
            },
            "type": "parcoords"
           }
          ],
          "pie": [
           {
            "automargin": true,
            "type": "pie"
           }
          ],
          "scatter": [
           {
            "marker": {
             "colorbar": {
              "outlinewidth": 0,
              "ticks": ""
             }
            },
            "type": "scatter"
           }
          ],
          "scatter3d": [
           {
            "line": {
             "colorbar": {
              "outlinewidth": 0,
              "ticks": ""
             }
            },
            "marker": {
             "colorbar": {
              "outlinewidth": 0,
              "ticks": ""
             }
            },
            "type": "scatter3d"
           }
          ],
          "scattercarpet": [
           {
            "marker": {
             "colorbar": {
              "outlinewidth": 0,
              "ticks": ""
             }
            },
            "type": "scattercarpet"
           }
          ],
          "scattergeo": [
           {
            "marker": {
             "colorbar": {
              "outlinewidth": 0,
              "ticks": ""
             }
            },
            "type": "scattergeo"
           }
          ],
          "scattergl": [
           {
            "marker": {
             "colorbar": {
              "outlinewidth": 0,
              "ticks": ""
             }
            },
            "type": "scattergl"
           }
          ],
          "scattermapbox": [
           {
            "marker": {
             "colorbar": {
              "outlinewidth": 0,
              "ticks": ""
             }
            },
            "type": "scattermapbox"
           }
          ],
          "scatterpolar": [
           {
            "marker": {
             "colorbar": {
              "outlinewidth": 0,
              "ticks": ""
             }
            },
            "type": "scatterpolar"
           }
          ],
          "scatterpolargl": [
           {
            "marker": {
             "colorbar": {
              "outlinewidth": 0,
              "ticks": ""
             }
            },
            "type": "scatterpolargl"
           }
          ],
          "scatterternary": [
           {
            "marker": {
             "colorbar": {
              "outlinewidth": 0,
              "ticks": ""
             }
            },
            "type": "scatterternary"
           }
          ],
          "surface": [
           {
            "colorbar": {
             "outlinewidth": 0,
             "ticks": ""
            },
            "colorscale": [
             [
              0,
              "#0d0887"
             ],
             [
              0.1111111111111111,
              "#46039f"
             ],
             [
              0.2222222222222222,
              "#7201a8"
             ],
             [
              0.3333333333333333,
              "#9c179e"
             ],
             [
              0.4444444444444444,
              "#bd3786"
             ],
             [
              0.5555555555555556,
              "#d8576b"
             ],
             [
              0.6666666666666666,
              "#ed7953"
             ],
             [
              0.7777777777777778,
              "#fb9f3a"
             ],
             [
              0.8888888888888888,
              "#fdca26"
             ],
             [
              1,
              "#f0f921"
             ]
            ],
            "type": "surface"
           }
          ],
          "table": [
           {
            "cells": {
             "fill": {
              "color": "#EBF0F8"
             },
             "line": {
              "color": "white"
             }
            },
            "header": {
             "fill": {
              "color": "#C8D4E3"
             },
             "line": {
              "color": "white"
             }
            },
            "type": "table"
           }
          ]
         },
         "layout": {
          "annotationdefaults": {
           "arrowcolor": "#2a3f5f",
           "arrowhead": 0,
           "arrowwidth": 1
          },
          "coloraxis": {
           "colorbar": {
            "outlinewidth": 0,
            "ticks": ""
           }
          },
          "colorscale": {
           "diverging": [
            [
             0,
             "#8e0152"
            ],
            [
             0.1,
             "#c51b7d"
            ],
            [
             0.2,
             "#de77ae"
            ],
            [
             0.3,
             "#f1b6da"
            ],
            [
             0.4,
             "#fde0ef"
            ],
            [
             0.5,
             "#f7f7f7"
            ],
            [
             0.6,
             "#e6f5d0"
            ],
            [
             0.7,
             "#b8e186"
            ],
            [
             0.8,
             "#7fbc41"
            ],
            [
             0.9,
             "#4d9221"
            ],
            [
             1,
             "#276419"
            ]
           ],
           "sequential": [
            [
             0,
             "#0d0887"
            ],
            [
             0.1111111111111111,
             "#46039f"
            ],
            [
             0.2222222222222222,
             "#7201a8"
            ],
            [
             0.3333333333333333,
             "#9c179e"
            ],
            [
             0.4444444444444444,
             "#bd3786"
            ],
            [
             0.5555555555555556,
             "#d8576b"
            ],
            [
             0.6666666666666666,
             "#ed7953"
            ],
            [
             0.7777777777777778,
             "#fb9f3a"
            ],
            [
             0.8888888888888888,
             "#fdca26"
            ],
            [
             1,
             "#f0f921"
            ]
           ],
           "sequentialminus": [
            [
             0,
             "#0d0887"
            ],
            [
             0.1111111111111111,
             "#46039f"
            ],
            [
             0.2222222222222222,
             "#7201a8"
            ],
            [
             0.3333333333333333,
             "#9c179e"
            ],
            [
             0.4444444444444444,
             "#bd3786"
            ],
            [
             0.5555555555555556,
             "#d8576b"
            ],
            [
             0.6666666666666666,
             "#ed7953"
            ],
            [
             0.7777777777777778,
             "#fb9f3a"
            ],
            [
             0.8888888888888888,
             "#fdca26"
            ],
            [
             1,
             "#f0f921"
            ]
           ]
          },
          "colorway": [
           "#636efa",
           "#EF553B",
           "#00cc96",
           "#ab63fa",
           "#FFA15A",
           "#19d3f3",
           "#FF6692",
           "#B6E880",
           "#FF97FF",
           "#FECB52"
          ],
          "font": {
           "color": "#2a3f5f"
          },
          "geo": {
           "bgcolor": "white",
           "lakecolor": "white",
           "landcolor": "#E5ECF6",
           "showlakes": true,
           "showland": true,
           "subunitcolor": "white"
          },
          "hoverlabel": {
           "align": "left"
          },
          "hovermode": "closest",
          "mapbox": {
           "style": "light"
          },
          "paper_bgcolor": "white",
          "plot_bgcolor": "#E5ECF6",
          "polar": {
           "angularaxis": {
            "gridcolor": "white",
            "linecolor": "white",
            "ticks": ""
           },
           "bgcolor": "#E5ECF6",
           "radialaxis": {
            "gridcolor": "white",
            "linecolor": "white",
            "ticks": ""
           }
          },
          "scene": {
           "xaxis": {
            "backgroundcolor": "#E5ECF6",
            "gridcolor": "white",
            "gridwidth": 2,
            "linecolor": "white",
            "showbackground": true,
            "ticks": "",
            "zerolinecolor": "white"
           },
           "yaxis": {
            "backgroundcolor": "#E5ECF6",
            "gridcolor": "white",
            "gridwidth": 2,
            "linecolor": "white",
            "showbackground": true,
            "ticks": "",
            "zerolinecolor": "white"
           },
           "zaxis": {
            "backgroundcolor": "#E5ECF6",
            "gridcolor": "white",
            "gridwidth": 2,
            "linecolor": "white",
            "showbackground": true,
            "ticks": "",
            "zerolinecolor": "white"
           }
          },
          "shapedefaults": {
           "line": {
            "color": "#2a3f5f"
           }
          },
          "ternary": {
           "aaxis": {
            "gridcolor": "white",
            "linecolor": "white",
            "ticks": ""
           },
           "baxis": {
            "gridcolor": "white",
            "linecolor": "white",
            "ticks": ""
           },
           "bgcolor": "#E5ECF6",
           "caxis": {
            "gridcolor": "white",
            "linecolor": "white",
            "ticks": ""
           }
          },
          "title": {
           "x": 0.05
          },
          "xaxis": {
           "automargin": true,
           "gridcolor": "white",
           "linecolor": "white",
           "ticks": "",
           "title": {
            "standoff": 15
           },
           "zerolinecolor": "white",
           "zerolinewidth": 2
          },
          "yaxis": {
           "automargin": true,
           "gridcolor": "white",
           "linecolor": "white",
           "ticks": "",
           "title": {
            "standoff": 15
           },
           "zerolinecolor": "white",
           "zerolinewidth": 2
          }
         }
        }
       }
      },
      "text/html": [
       "<div>\n",
       "        \n",
       "        \n",
       "            <div id=\"935a05df-15fc-4cfe-9681-7afcfeb4626f\" class=\"plotly-graph-div\" style=\"height:525px; width:100%;\"></div>\n",
       "            <script type=\"text/javascript\">\n",
       "                require([\"plotly\"], function(Plotly) {\n",
       "                    window.PLOTLYENV=window.PLOTLYENV || {};\n",
       "                    \n",
       "                if (document.getElementById(\"935a05df-15fc-4cfe-9681-7afcfeb4626f\")) {\n",
       "                    Plotly.newPlot(\n",
       "                        '935a05df-15fc-4cfe-9681-7afcfeb4626f',\n",
       "                        [{\"hovertemplate\": \"<b>%{hovertext}</b><br><br>Location_Type=Discharge Station<br>Lat=%{lat}<br>Lon=%{lon}<extra></extra>\", \"hovertext\": [\"BB\", \"BU\", \"CC\", \"CC\", \"CT\", \"CU\", \"CW\", \"DC\", \"KC\", \"OL\", \"SL\", \"AC\", \"BA\", \"BC\", \"BL\", \"GO\", \"HC\", \"WC\", \"AN\", \"CE\", \"CH\", \"DI\", \"DR\", \"GA\", \"GC\", \"GV\", \"HE\", \"IL\", \"KL\", \"LJ\", \"LT\", \"OC\", \"MZ\", \"PA\", \"SC\", \"SE\", \"SH\", \"ST\", \"TR\", \"UR\"], \"lat\": [47.655599, 47.5931, 47.661483, 47.665075, 47.586061, 47.505354, 47.66992, 47.752384, 47.579805, 47.429222, 47.650491, 47.523747, 47.638989, 47.414426, 47.502076, 47.554961, 47.884512, 47.601172, 47.567091, 47.6675, 47.5933, 47.58409, 47.4615, 47.7889, 47.52673400000001, 47.780088, 47.531089, 47.611257, 47.5797, 47.733502, 47.4380555556, 47.5441, 47.674146, 47.529178, 47.646689, 47.634864, 47.628681, 47.624442, 47.4375, 47.4641], \"legendgroup\": \"Discharge Station\", \"lon\": [-122.785862, -122.837, -122.682049, -122.682536, -122.716311, -122.567265, -122.691508, -122.644918, -122.712196, -122.567544, -122.632021, -122.682422, -122.666892, -122.631395, -122.647775, -122.827203, -122.573691, -122.758669, -122.968115, -122.6817, -122.7075, -122.715992, -123.0265, -122.5799, -122.705457, -122.556371, -122.715669, -122.611743, -122.7103, -122.662861, -122.95027777799999, -122.6117, -122.553551, -122.713903, -122.695846, -122.836073, -122.837611, -122.874691, -122.9531, -122.83], \"marker\": {\"color\": \"#636efa\"}, \"mode\": \"markers\", \"name\": \"Discharge Station\", \"showlegend\": true, \"subplot\": \"mapbox\", \"type\": \"scattermapbox\"}, {\"hovertemplate\": \"<b>%{hovertext}</b><br><br>Location_Type=Well<br>Lat=%{lat}<br>Lon=%{lon}<extra></extra>\", \"hovertext\": [\"AAA001\", \"AAA002\", \"AAA005\", \"AAA007\", \"AAA008\", \"AAA011\", \"AAA012\", \"AAA013\", \"AAA014\", \"AAA015\", \"AAA016\", \"AAA103\", \"AAA104\", \"AAA106\", \"AAA107\", \"AAA108\", \"AAA109\", \"AAA110\", \"AAA111\", \"AAA113\", \"AAA114\", \"AAA120\", \"AAA227\", \"AAA230\", \"AAA231\", \"AAA235\", \"AAA236\", \"AAA238\", \"AAA304\", \"AAA398\", \"AAA639\", \"AAA706\", \"AAA707\", \"AAA710\", \"AAA711\", \"AAA713\", \"AAA715\", \"AAA717\", \"AAA718\", \"AAA722\", \"AAA875\", \"AAA990\", \"AAB274\", \"AAB401\", \"AAB406\", \"AAB407\", \"AAB408\", \"AAB410\", \"AAB454\", \"AAB455\", \"AAB458\", \"AAB459\", \"AAB460\", \"AAB464\", \"AAB471\", \"AAB476\", \"AAB478\", \"AAB479\", \"AAB526\", \"AAB533\", \"AAB607\", \"AAC006\", \"AAC079\", \"AAC110\", \"AAC113\", \"AAC117\", \"AAC118\", \"AAC119\", \"AAC318\", \"AAC340\", \"AAC344\", \"AAC345\", \"AAC377\", \"AAC403\", \"AAC532\", \"AAC547\", \"AAC558\", \"AAC601\", \"AAC606\", \"AAC707\", \"AAC718\", \"AAC720\", \"AAC759\", \"AAC799\", \"AAC807\", \"AAC809\", \"AAC820\", \"AAC824\", \"AAC825\", \"AAC826\", \"AAC832\", \"AAC835\", \"AAC839\", \"ABB943\", \"AAS286\", \"ABC665\", \"ABE865\", \"ABP505\", \"ABP540\", \"ABP933\", \"ABV298\", \"ACC503\", \"ACD351\", \"ACD352\", \"ACD354\", \"ACD354\", \"ACD355\", \"ACD357\", \"ACD358\", \"ACD373\", \"ACD374\", \"ACD385\", \"ACD855\", \"ACG501\", \"ACG504\", \"ACG506\", \"ACK364\", \"ACK368\", \"ACK369\", \"ACK371\", \"ACK372\", \"ACK373\", \"ACK457\", \"ACR352\", \"ACR353\", \"ACR354\", \"ACR355\", \"ACR356\", \"ACW030\", \"AEC948\", \"AEK852\", \"AEK853\", \"AES172\", \"AES249\", \"AES259\", \"AES313\", \"AES315\", \"AET413\", \"AFC506\", \"AKR190\", \"ALK129\", \"ALK301\", \"AHB466\", \"BHN761\"], \"lat\": [47.700758333333305, 47.684675, 47.6442694444444, 47.557627777777796, 47.5555194444444, 47.7872111111111, 47.7871527777778, 47.7509083333333, 47.752141666666695, 47.8018083333333, 47.8135833333333, 47.8015888888889, 47.78014722222221, 47.805525, 47.8023861111111, 47.616208333333304, 47.616138888888905, 47.646641666666696, 47.6405277777778, 47.67122777777779, 47.5962611111111, 47.569025, 47.405002777777796, 47.440877777777786, 47.884416666666695, 47.638952777777796, 47.440444444444395, 47.6137861111111, 47.8833861111111, 47.756169444444396, 47.501475, 47.8135833333333, 47.7869555555556, 47.7420361111111, 47.716938888888905, 47.7327416666667, 47.7456222222222, 47.75340277777779, 47.7295916666667, 47.7685083333333, 47.6317666666667, 47.634475, 47.6303694444444, 47.804575, 47.7520861111111, 47.7522222222222, 47.75402222222221, 47.7513194444444, 47.733275, 47.672541666666696, 47.7704722222222, 47.772947222222214, 47.569288888888906, 47.8090166666667, 47.6167083333333, 47.61597222222221, 47.8032944444444, 47.7608027777778, 47.803302777777795, 47.8301805555556, 47.614786111111094, 47.6177638968362, 47.8765583333333, 47.6733361111111, 47.6164972, 47.80825, 47.803485905555604, 47.8070532777778, 47.6559055555556, 47.684741666666696, 47.4837055555556, 47.483572222222215, 47.6296027777778, 47.8545833333333, 47.815755555555604, 47.646641666666696, 47.6658333333333, 47.8085916666667, 47.704608333333304, 47.616738888888904, 47.812663888888906, 47.8331805555556, 47.704575, 47.646441666666696, 47.597630555555604, 47.6494416666667, 47.4127944444444, 47.4791805555556, 47.4459333333333, 47.6724527777778, 47.67332222222221, 47.6377, 47.5122916666667, 47.813119444444396, 47.617133, 47.629127777777796, 47.593888888888905, 47.8220277777778, 47.7522305555556, 47.8438583333333, 47.5103527777778, 47.603913888888904, 47.7271777777778, 47.7657611111111, 47.476188888888906, 47.476188888888906, 47.67142222222221, 47.6206666666667, 47.7148083333333, 47.506313888888904, 47.7062277777778, 47.7787805555556, 47.7739305555556, 47.6353194444444, 47.613561111111096, 47.7499333333333, 47.6045194444444, 47.57444722222221, 47.6482194444444, 47.5916805555556, 47.6057111111111, 47.6055888888889, 47.483052777777786, 47.5979222222222, 47.597661111111094, 47.6009, 47.5953861111111, 47.5954305555556, 47.6044611111111, 47.7521583333333, 47.6725, 47.6732305555556, 47.7842444444444, 47.84822777777779, 47.7122611111111, 47.648611111111094, 47.8523, 47.6134583333333, 47.8016805555555, 47.4791333333333, 47.80542777777779, 47.61322222222221, 47.8089293, 47.8439776], \"legendgroup\": \"Well\", \"lon\": [-122.62743059999998, -122.63379166666701, -122.78286388888901, -122.978816666667, -122.9804, -122.506125, -122.506144444444, -122.514427777778, -122.541491666667, -122.566238888889, -122.574888888889, -122.653991666667, -122.67640555555599, -122.506841666667, -122.495241666667, -122.536066666667, -122.53608888888901, -122.548947222222, -122.575227777778, -122.54568055555599, -122.84653888888901, -122.55858333333299, -122.569266666667, -122.72108611111099, -122.574575, -122.81430555555599, -122.637786111111, -122.503933333333, -122.54476388888901, -122.67774722222201, -122.661655555556, -122.574522222222, -122.506091666667, -122.55473333333299, -122.567919444444, -122.56698888888901, -122.575308333333, -122.569697222222, -122.558002777778, -122.48614444444401, -122.844311111111, -122.811444444444, -122.76759722222201, -122.49413611111099, -122.52553055555599, -122.524166650772, -122.527566666667, -122.53748055555599, -122.567722222222, -122.54946388888901, -122.70186944444401, -122.69848055555599, -122.55405555555599, -122.5525, -122.723447222222, -122.71468888888901, -122.665102777778, -122.54260833333299, -122.665177777778, -122.51990833333299, -122.84051944444401, -122.648024992053, -122.571266666667, -122.520630555556, -122.536261, -122.51583333333299, -122.48783979444401, -122.485624030556, -122.791125, -122.633716666667, -122.57028888888901, -122.572925, -122.755797222222, -122.6075, -122.487763888889, -122.81277222222201, -122.5775, -122.49965555555599, -122.54867222222201, -122.782866666667, -122.50340277777799, -122.541825, -122.548022222222, -122.79465555555599, -122.81863888888901, -122.789186111111, -122.553908333333, -122.529336111111, -122.661027777778, -122.549708333333, -122.520563888889, -122.828691666667, -122.77820277777799, -122.593627777778, -122.535725, -122.784844444444, -122.722675, -122.511927777778, -122.613533333333, -122.610375, -122.61653611111099, -122.772463888889, -122.59546666666701, -122.65300833333299, -122.60590555555599, -122.60590555555599, -122.70916388888901, -122.532163888889, -122.61036388888901, -122.548516666667, -122.602377777778, -122.488719444444, -122.512316666667, -122.758455555556, -122.819916666667, -122.69058611111099, -122.544977777778, -122.89112222222201, -122.777275, -122.835394444444, -122.770066666667, -122.770075, -122.664033333333, -122.82590833333299, -122.826047222222, -122.8264, -122.836288888889, -122.8349, -122.545563888889, -122.541602777778, -122.54955277777799, -122.547541666667, -122.673583333333, -122.603375, -122.61065, -122.842777777778, -122.596736111111, -122.819708333333, -122.654133333333, -122.529425, -122.506822222222, -122.819722222222, -122.5187088, -122.5929423], \"marker\": {\"color\": \"#EF553B\"}, \"mode\": \"markers\", \"name\": \"Well\", \"showlegend\": true, \"subplot\": \"mapbox\", \"type\": \"scattermapbox\"}, {\"hovertemplate\": \"<b>%{hovertext}</b><br><br>Location_Type=Rain Gauge<br>Lat=%{lat}<br>Lon=%{lon}<extra></extra>\", \"hovertext\": [1, 3, 4, 5, 6, 8, 9, 10, 12, 13, 15, 16, 18, 22, 24, 25, 26, 27, 28, 31, 32, 34, 35, 36, 37, 38, 39, 40, 41, 42, 46, 49, 50, 51, 52, 53, 56, 59, 61, 62, 63, 64, 65, 66, 67, 68, 70, 71, 72, 74, 75, 76, 77, 78], \"lat\": [47.755115, 47.7563888888889, 47.77, 47.6877777777778, 47.49, 47.5913888888889, 47.56, 47.4436, 47.644444444444396, 47.4075, 47.7355555555556, 47.6886111111111, 47.5298, 47.773333333333305, 47.884366, 47.55777777777779, 47.618333333333304, 47.527222222222214, 47.787157, 47.527222222222214, 47.6669444444444, 47.43277777777779, 47.853344, 47.735638, 47.644444444444396, 47.6483, 47.6375, 47.6136111111111, 47.6394444444444, 47.5216666666667, 47.8136111111111, 47.5227777777778, 47.3905555555556, 47.6475, 47.6783333333333, 47.7522222222222, 47.7652777777778, 47.801606, 47.4919444444444, 47.65152, 47.6058333333333, 47.4083333333333, 47.4347222222, 47.4130555555556, 47.613446, 47.83256, 47.63232, 47.587327, 47.494538, 47.84970300000001, 47.728311, 47.84967, 47.563677, 47.605667], \"legendgroup\": \"Rain Gauge\", \"lon\": [-122.667651, -122.549722222222, -122.641666666667, -122.54, -122.76, -122.617777777778, -122.64, -122.6281, -122.52888888888901, -122.816944444444, -122.65805555555599, -122.699166666667, -122.7108, -122.556666666667, -122.57464, -122.9775, -122.6025, -122.621388888889, -122.506142, -122.78638888888901, -122.54, -122.573055555556, -122.594659, -122.645844, -122.84305555555599, -122.8483, -122.725833333333, -122.888333333333, -122.674444444444, -122.759166666667, -122.539444444444, -122.623055555556, -122.586388888889, -122.65861111111099, -122.659722222222, -122.61111111111099, -122.53111111111099, -122.654031, -122.765277777778, -122.694996, -122.76888888888901, -122.604166666667, -122.839722222, -122.552222222222, -122.819809, -122.542906, -122.662885, -122.720579, -122.623984, -122.547041, -122.559813, -122.54716, -122.672337, -122.523639], \"marker\": {\"color\": \"#00cc96\"}, \"mode\": \"markers\", \"name\": \"Rain Gauge\", \"showlegend\": true, \"subplot\": \"mapbox\", \"type\": \"scattermapbox\"}],\n",
       "                        {\"legend\": {\"title\": {\"text\": \"Location_Type\"}, \"tracegroupgap\": 0}, \"mapbox\": {\"accesstoken\": \"pk.eyJ1IjoiaW50ZXJuZXRnYXJldGgiLCJhIjoiY2pyaWFwOTd1MDB3ZzQ0bzE2Y3B6eWkxMCJ9.9fxAtjyCT5glHuPiK8ee0Q\", \"center\": {\"lat\": 47.656909324753364, \"lon\": -122.65398904645681}, \"domain\": {\"x\": [0.0, 1.0], \"y\": [0.0, 1.0]}, \"zoom\": 10}, \"margin\": {\"t\": 60}, \"template\": {\"data\": {\"bar\": [{\"error_x\": {\"color\": \"#2a3f5f\"}, \"error_y\": {\"color\": \"#2a3f5f\"}, \"marker\": {\"line\": {\"color\": \"#E5ECF6\", \"width\": 0.5}}, \"type\": \"bar\"}], \"barpolar\": [{\"marker\": {\"line\": {\"color\": \"#E5ECF6\", \"width\": 0.5}}, \"type\": \"barpolar\"}], \"carpet\": [{\"aaxis\": {\"endlinecolor\": \"#2a3f5f\", \"gridcolor\": \"white\", \"linecolor\": \"white\", \"minorgridcolor\": \"white\", \"startlinecolor\": \"#2a3f5f\"}, \"baxis\": {\"endlinecolor\": \"#2a3f5f\", \"gridcolor\": \"white\", \"linecolor\": \"white\", \"minorgridcolor\": \"white\", \"startlinecolor\": \"#2a3f5f\"}, \"type\": \"carpet\"}], \"choropleth\": [{\"colorbar\": {\"outlinewidth\": 0, \"ticks\": \"\"}, \"type\": \"choropleth\"}], \"contour\": [{\"colorbar\": {\"outlinewidth\": 0, \"ticks\": \"\"}, \"colorscale\": [[0.0, \"#0d0887\"], [0.1111111111111111, \"#46039f\"], [0.2222222222222222, \"#7201a8\"], [0.3333333333333333, \"#9c179e\"], [0.4444444444444444, \"#bd3786\"], [0.5555555555555556, \"#d8576b\"], [0.6666666666666666, \"#ed7953\"], [0.7777777777777778, \"#fb9f3a\"], [0.8888888888888888, \"#fdca26\"], [1.0, \"#f0f921\"]], \"type\": \"contour\"}], \"contourcarpet\": [{\"colorbar\": {\"outlinewidth\": 0, \"ticks\": \"\"}, \"type\": \"contourcarpet\"}], \"heatmap\": [{\"colorbar\": {\"outlinewidth\": 0, \"ticks\": \"\"}, \"colorscale\": [[0.0, \"#0d0887\"], [0.1111111111111111, \"#46039f\"], [0.2222222222222222, \"#7201a8\"], [0.3333333333333333, \"#9c179e\"], [0.4444444444444444, \"#bd3786\"], [0.5555555555555556, \"#d8576b\"], [0.6666666666666666, \"#ed7953\"], [0.7777777777777778, \"#fb9f3a\"], [0.8888888888888888, \"#fdca26\"], [1.0, \"#f0f921\"]], \"type\": \"heatmap\"}], \"heatmapgl\": [{\"colorbar\": {\"outlinewidth\": 0, \"ticks\": \"\"}, \"colorscale\": [[0.0, \"#0d0887\"], [0.1111111111111111, \"#46039f\"], [0.2222222222222222, \"#7201a8\"], [0.3333333333333333, \"#9c179e\"], [0.4444444444444444, \"#bd3786\"], [0.5555555555555556, \"#d8576b\"], [0.6666666666666666, \"#ed7953\"], [0.7777777777777778, \"#fb9f3a\"], [0.8888888888888888, \"#fdca26\"], [1.0, \"#f0f921\"]], \"type\": \"heatmapgl\"}], \"histogram\": [{\"marker\": {\"colorbar\": {\"outlinewidth\": 0, \"ticks\": \"\"}}, \"type\": \"histogram\"}], \"histogram2d\": [{\"colorbar\": {\"outlinewidth\": 0, \"ticks\": \"\"}, \"colorscale\": [[0.0, \"#0d0887\"], [0.1111111111111111, \"#46039f\"], [0.2222222222222222, \"#7201a8\"], [0.3333333333333333, \"#9c179e\"], [0.4444444444444444, \"#bd3786\"], [0.5555555555555556, \"#d8576b\"], [0.6666666666666666, \"#ed7953\"], [0.7777777777777778, \"#fb9f3a\"], [0.8888888888888888, \"#fdca26\"], [1.0, \"#f0f921\"]], \"type\": \"histogram2d\"}], \"histogram2dcontour\": [{\"colorbar\": {\"outlinewidth\": 0, \"ticks\": \"\"}, \"colorscale\": [[0.0, \"#0d0887\"], [0.1111111111111111, \"#46039f\"], [0.2222222222222222, \"#7201a8\"], [0.3333333333333333, \"#9c179e\"], [0.4444444444444444, \"#bd3786\"], [0.5555555555555556, \"#d8576b\"], [0.6666666666666666, \"#ed7953\"], [0.7777777777777778, \"#fb9f3a\"], [0.8888888888888888, \"#fdca26\"], [1.0, \"#f0f921\"]], \"type\": \"histogram2dcontour\"}], \"mesh3d\": [{\"colorbar\": {\"outlinewidth\": 0, \"ticks\": \"\"}, \"type\": \"mesh3d\"}], \"parcoords\": [{\"line\": {\"colorbar\": {\"outlinewidth\": 0, \"ticks\": \"\"}}, \"type\": \"parcoords\"}], \"pie\": [{\"automargin\": true, \"type\": \"pie\"}], \"scatter\": [{\"marker\": {\"colorbar\": {\"outlinewidth\": 0, \"ticks\": \"\"}}, \"type\": \"scatter\"}], \"scatter3d\": [{\"line\": {\"colorbar\": {\"outlinewidth\": 0, \"ticks\": \"\"}}, \"marker\": {\"colorbar\": {\"outlinewidth\": 0, \"ticks\": \"\"}}, \"type\": \"scatter3d\"}], \"scattercarpet\": [{\"marker\": {\"colorbar\": {\"outlinewidth\": 0, \"ticks\": \"\"}}, \"type\": \"scattercarpet\"}], \"scattergeo\": [{\"marker\": {\"colorbar\": {\"outlinewidth\": 0, \"ticks\": \"\"}}, \"type\": \"scattergeo\"}], \"scattergl\": [{\"marker\": {\"colorbar\": {\"outlinewidth\": 0, \"ticks\": \"\"}}, \"type\": \"scattergl\"}], \"scattermapbox\": [{\"marker\": {\"colorbar\": {\"outlinewidth\": 0, \"ticks\": \"\"}}, \"type\": \"scattermapbox\"}], \"scatterpolar\": [{\"marker\": {\"colorbar\": {\"outlinewidth\": 0, \"ticks\": \"\"}}, \"type\": \"scatterpolar\"}], \"scatterpolargl\": [{\"marker\": {\"colorbar\": {\"outlinewidth\": 0, \"ticks\": \"\"}}, \"type\": \"scatterpolargl\"}], \"scatterternary\": [{\"marker\": {\"colorbar\": {\"outlinewidth\": 0, \"ticks\": \"\"}}, \"type\": \"scatterternary\"}], \"surface\": [{\"colorbar\": {\"outlinewidth\": 0, \"ticks\": \"\"}, \"colorscale\": [[0.0, \"#0d0887\"], [0.1111111111111111, \"#46039f\"], [0.2222222222222222, \"#7201a8\"], [0.3333333333333333, \"#9c179e\"], [0.4444444444444444, \"#bd3786\"], [0.5555555555555556, \"#d8576b\"], [0.6666666666666666, \"#ed7953\"], [0.7777777777777778, \"#fb9f3a\"], [0.8888888888888888, \"#fdca26\"], [1.0, \"#f0f921\"]], \"type\": \"surface\"}], \"table\": [{\"cells\": {\"fill\": {\"color\": \"#EBF0F8\"}, \"line\": {\"color\": \"white\"}}, \"header\": {\"fill\": {\"color\": \"#C8D4E3\"}, \"line\": {\"color\": \"white\"}}, \"type\": \"table\"}]}, \"layout\": {\"annotationdefaults\": {\"arrowcolor\": \"#2a3f5f\", \"arrowhead\": 0, \"arrowwidth\": 1}, \"coloraxis\": {\"colorbar\": {\"outlinewidth\": 0, \"ticks\": \"\"}}, \"colorscale\": {\"diverging\": [[0, \"#8e0152\"], [0.1, \"#c51b7d\"], [0.2, \"#de77ae\"], [0.3, \"#f1b6da\"], [0.4, \"#fde0ef\"], [0.5, \"#f7f7f7\"], [0.6, \"#e6f5d0\"], [0.7, \"#b8e186\"], [0.8, \"#7fbc41\"], [0.9, \"#4d9221\"], [1, \"#276419\"]], \"sequential\": [[0.0, \"#0d0887\"], [0.1111111111111111, \"#46039f\"], [0.2222222222222222, \"#7201a8\"], [0.3333333333333333, \"#9c179e\"], [0.4444444444444444, \"#bd3786\"], [0.5555555555555556, \"#d8576b\"], [0.6666666666666666, \"#ed7953\"], [0.7777777777777778, \"#fb9f3a\"], [0.8888888888888888, \"#fdca26\"], [1.0, \"#f0f921\"]], \"sequentialminus\": [[0.0, \"#0d0887\"], [0.1111111111111111, \"#46039f\"], [0.2222222222222222, \"#7201a8\"], [0.3333333333333333, \"#9c179e\"], [0.4444444444444444, \"#bd3786\"], [0.5555555555555556, \"#d8576b\"], [0.6666666666666666, \"#ed7953\"], [0.7777777777777778, \"#fb9f3a\"], [0.8888888888888888, \"#fdca26\"], [1.0, \"#f0f921\"]]}, \"colorway\": [\"#636efa\", \"#EF553B\", \"#00cc96\", \"#ab63fa\", \"#FFA15A\", \"#19d3f3\", \"#FF6692\", \"#B6E880\", \"#FF97FF\", \"#FECB52\"], \"font\": {\"color\": \"#2a3f5f\"}, \"geo\": {\"bgcolor\": \"white\", \"lakecolor\": \"white\", \"landcolor\": \"#E5ECF6\", \"showlakes\": true, \"showland\": true, \"subunitcolor\": \"white\"}, \"hoverlabel\": {\"align\": \"left\"}, \"hovermode\": \"closest\", \"mapbox\": {\"style\": \"light\"}, \"paper_bgcolor\": \"white\", \"plot_bgcolor\": \"#E5ECF6\", \"polar\": {\"angularaxis\": {\"gridcolor\": \"white\", \"linecolor\": \"white\", \"ticks\": \"\"}, \"bgcolor\": \"#E5ECF6\", \"radialaxis\": {\"gridcolor\": \"white\", \"linecolor\": \"white\", \"ticks\": \"\"}}, \"scene\": {\"xaxis\": {\"backgroundcolor\": \"#E5ECF6\", \"gridcolor\": \"white\", \"gridwidth\": 2, \"linecolor\": \"white\", \"showbackground\": true, \"ticks\": \"\", \"zerolinecolor\": \"white\"}, \"yaxis\": {\"backgroundcolor\": \"#E5ECF6\", \"gridcolor\": \"white\", \"gridwidth\": 2, \"linecolor\": \"white\", \"showbackground\": true, \"ticks\": \"\", \"zerolinecolor\": \"white\"}, \"zaxis\": {\"backgroundcolor\": \"#E5ECF6\", \"gridcolor\": \"white\", \"gridwidth\": 2, \"linecolor\": \"white\", \"showbackground\": true, \"ticks\": \"\", \"zerolinecolor\": \"white\"}}, \"shapedefaults\": {\"line\": {\"color\": \"#2a3f5f\"}}, \"ternary\": {\"aaxis\": {\"gridcolor\": \"white\", \"linecolor\": \"white\", \"ticks\": \"\"}, \"baxis\": {\"gridcolor\": \"white\", \"linecolor\": \"white\", \"ticks\": \"\"}, \"bgcolor\": \"#E5ECF6\", \"caxis\": {\"gridcolor\": \"white\", \"linecolor\": \"white\", \"ticks\": \"\"}}, \"title\": {\"x\": 0.05}, \"xaxis\": {\"automargin\": true, \"gridcolor\": \"white\", \"linecolor\": \"white\", \"ticks\": \"\", \"title\": {\"standoff\": 15}, \"zerolinecolor\": \"white\", \"zerolinewidth\": 2}, \"yaxis\": {\"automargin\": true, \"gridcolor\": \"white\", \"linecolor\": \"white\", \"ticks\": \"\", \"title\": {\"standoff\": 15}, \"zerolinecolor\": \"white\", \"zerolinewidth\": 2}}}},\n",
       "                        {\"responsive\": true}\n",
       "                    ).then(function(){\n",
       "                            \n",
       "var gd = document.getElementById('935a05df-15fc-4cfe-9681-7afcfeb4626f');\n",
       "var x = new MutationObserver(function (mutations, observer) {{\n",
       "        var display = window.getComputedStyle(gd).display;\n",
       "        if (!display || display === 'none') {{\n",
       "            console.log([gd, 'removed!']);\n",
       "            Plotly.purge(gd);\n",
       "            observer.disconnect();\n",
       "        }}\n",
       "}});\n",
       "\n",
       "// Listen for the removal of the full notebook cells\n",
       "var notebookContainer = gd.closest('#notebook-container');\n",
       "if (notebookContainer) {{\n",
       "    x.observe(notebookContainer, {childList: true});\n",
       "}}\n",
       "\n",
       "// Listen for the clearing of the current output cell\n",
       "var outputEl = gd.closest('.output');\n",
       "if (outputEl) {{\n",
       "    x.observe(outputEl, {childList: true});\n",
       "}}\n",
       "\n",
       "                        })\n",
       "                };\n",
       "                });\n",
       "            </script>\n",
       "        </div>"
      ]
     },
     "metadata": {},
     "output_type": "display_data"
    }
   ],
   "source": [
    "mapbox_token = 'pk.eyJ1IjoiaW50ZXJuZXRnYXJldGgiLCJhIjoiY2pyaWFwOTd1MDB3ZzQ0bzE2Y3B6eWkxMCJ9.9fxAtjyCT5glHuPiK8ee0Q'\n",
    "import pandas as pd\n",
    "import plotly.express as px\n",
    "px.set_mapbox_access_token(mapbox_token)\n",
    "\n",
    "well_locations = pd.read_csv('Data/Locations/Well_Location_Data.csv', index_col=0)\n",
    "discharge_locations = pd.read_csv('Data/Locations/Discharge_Location_Data.csv', index_col=0) \n",
    "guage_locations = pd.read_csv('Data/Locations/Rain_Guage_Location_Data.csv', index_col=0) \n",
    "\n",
    "cols = ['Lat', 'Lon', 'Location_Key', 'Location_Type']\n",
    "all_locations = pd.concat([discharge_locations[cols], well_locations[cols],guage_locations[cols]])\n",
    "\n",
    "\n",
    "\n",
    "\n",
    "fig = px.scatter_mapbox(all_locations, lat=\"Lat\", lon=\"Lon\",hover_name ='Location_Key',color='Location_Type',\n",
    "                  color_continuous_scale=px.colors.cyclical.IceFire, size_max=15, zoom=10)\n",
    "\n",
    "fig.show()"
   ]
  },
  {
   "cell_type": "code",
   "execution_count": 31,
   "metadata": {},
   "outputs": [
    {
     "data": {
      "text/html": [
       "<div>\n",
       "<style scoped>\n",
       "    .dataframe tbody tr th:only-of-type {\n",
       "        vertical-align: middle;\n",
       "    }\n",
       "\n",
       "    .dataframe tbody tr th {\n",
       "        vertical-align: top;\n",
       "    }\n",
       "\n",
       "    .dataframe thead th {\n",
       "        text-align: right;\n",
       "    }\n",
       "</style>\n",
       "<table border=\"1\" class=\"dataframe\">\n",
       "  <thead>\n",
       "    <tr style=\"text-align: right;\">\n",
       "      <th></th>\n",
       "      <th>Lat</th>\n",
       "      <th>Lon</th>\n",
       "      <th>Location_Key</th>\n",
       "      <th>Location_Type</th>\n",
       "    </tr>\n",
       "  </thead>\n",
       "  <tbody>\n",
       "    <tr>\n",
       "      <th>0</th>\n",
       "      <td>47.700758</td>\n",
       "      <td>-122.627431</td>\n",
       "      <td>AAA001</td>\n",
       "      <td>Well</td>\n",
       "    </tr>\n",
       "    <tr>\n",
       "      <th>1</th>\n",
       "      <td>47.684675</td>\n",
       "      <td>-122.633792</td>\n",
       "      <td>AAA002</td>\n",
       "      <td>Well</td>\n",
       "    </tr>\n",
       "    <tr>\n",
       "      <th>2</th>\n",
       "      <td>47.644269</td>\n",
       "      <td>-122.782864</td>\n",
       "      <td>AAA005</td>\n",
       "      <td>Well</td>\n",
       "    </tr>\n",
       "    <tr>\n",
       "      <th>3</th>\n",
       "      <td>47.557628</td>\n",
       "      <td>-122.978817</td>\n",
       "      <td>AAA007</td>\n",
       "      <td>Well</td>\n",
       "    </tr>\n",
       "    <tr>\n",
       "      <th>4</th>\n",
       "      <td>47.555519</td>\n",
       "      <td>-122.980400</td>\n",
       "      <td>AAA008</td>\n",
       "      <td>Well</td>\n",
       "    </tr>\n",
       "    <tr>\n",
       "      <th>...</th>\n",
       "      <td>...</td>\n",
       "      <td>...</td>\n",
       "      <td>...</td>\n",
       "      <td>...</td>\n",
       "    </tr>\n",
       "    <tr>\n",
       "      <th>139</th>\n",
       "      <td>47.479133</td>\n",
       "      <td>-122.529425</td>\n",
       "      <td>AKR190</td>\n",
       "      <td>Well</td>\n",
       "    </tr>\n",
       "    <tr>\n",
       "      <th>140</th>\n",
       "      <td>47.805428</td>\n",
       "      <td>-122.506822</td>\n",
       "      <td>ALK129</td>\n",
       "      <td>Well</td>\n",
       "    </tr>\n",
       "    <tr>\n",
       "      <th>141</th>\n",
       "      <td>47.613222</td>\n",
       "      <td>-122.819722</td>\n",
       "      <td>ALK301</td>\n",
       "      <td>Well</td>\n",
       "    </tr>\n",
       "    <tr>\n",
       "      <th>142</th>\n",
       "      <td>47.808929</td>\n",
       "      <td>-122.518709</td>\n",
       "      <td>AHB466</td>\n",
       "      <td>Well</td>\n",
       "    </tr>\n",
       "    <tr>\n",
       "      <th>143</th>\n",
       "      <td>47.843978</td>\n",
       "      <td>-122.592942</td>\n",
       "      <td>BHN761</td>\n",
       "      <td>Well</td>\n",
       "    </tr>\n",
       "  </tbody>\n",
       "</table>\n",
       "<p>144 rows × 4 columns</p>\n",
       "</div>"
      ],
      "text/plain": [
       "           Lat         Lon Location_Key Location_Type\n",
       "0    47.700758 -122.627431       AAA001          Well\n",
       "1    47.684675 -122.633792       AAA002          Well\n",
       "2    47.644269 -122.782864       AAA005          Well\n",
       "3    47.557628 -122.978817       AAA007          Well\n",
       "4    47.555519 -122.980400       AAA008          Well\n",
       "..         ...         ...          ...           ...\n",
       "139  47.479133 -122.529425       AKR190          Well\n",
       "140  47.805428 -122.506822       ALK129          Well\n",
       "141  47.613222 -122.819722       ALK301          Well\n",
       "142  47.808929 -122.518709       AHB466          Well\n",
       "143  47.843978 -122.592942       BHN761          Well\n",
       "\n",
       "[144 rows x 4 columns]"
      ]
     },
     "execution_count": 31,
     "metadata": {},
     "output_type": "execute_result"
    }
   ],
   "source": []
  },
  {
   "cell_type": "code",
   "execution_count": 35,
   "metadata": {},
   "outputs": [],
   "source": [
    "#pd.merge(discharge_locations[cols],well_locations[cols])\n"
   ]
  },
  {
   "cell_type": "code",
   "execution_count": 13,
   "metadata": {},
   "outputs": [],
   "source": [
    "well_depths = pd.read_csv('Data/TimeSeries/Well_Depths.csv', index_col=0)"
   ]
  },
  {
   "cell_type": "code",
   "execution_count": null,
   "metadata": {},
   "outputs": [],
   "source": []
  },
  {
   "cell_type": "code",
   "execution_count": 7,
   "metadata": {},
   "outputs": [],
   "source": [
    "import plotly.graph_objs as go"
   ]
  },
  {
   "cell_type": "code",
   "execution_count": 12,
   "metadata": {},
   "outputs": [],
   "source": [
    "fig = go.Figure(go.Scattermapbox(\n",
    "        lat=well_meta_data['lat'],\n",
    "        lon=well_meta_data['lon']))"
   ]
  },
  {
   "cell_type": "code",
   "execution_count": 11,
   "metadata": {},
   "outputs": [],
   "source": [
    "well_depths = pd.read_csv('Data/TimeSeries/Well_Depths.csv', index_col=0)"
   ]
  },
  {
   "cell_type": "code",
   "execution_count": 12,
   "metadata": {},
   "outputs": [
    {
     "data": {
      "text/html": [
       "<div>\n",
       "<style scoped>\n",
       "    .dataframe tbody tr th:only-of-type {\n",
       "        vertical-align: middle;\n",
       "    }\n",
       "\n",
       "    .dataframe tbody tr th {\n",
       "        vertical-align: top;\n",
       "    }\n",
       "\n",
       "    .dataframe thead th {\n",
       "        text-align: right;\n",
       "    }\n",
       "</style>\n",
       "<table border=\"1\" class=\"dataframe\">\n",
       "  <thead>\n",
       "    <tr style=\"text-align: right;\">\n",
       "      <th></th>\n",
       "      <th>Time</th>\n",
       "      <th>AM-PM</th>\n",
       "      <th>Water Level +/- MSL</th>\n",
       "      <th>Well Elevation</th>\n",
       "      <th>Well Name</th>\n",
       "      <th>Location_Key</th>\n",
       "    </tr>\n",
       "    <tr>\n",
       "      <th>Date</th>\n",
       "      <th></th>\n",
       "      <th></th>\n",
       "      <th></th>\n",
       "      <th></th>\n",
       "      <th></th>\n",
       "      <th></th>\n",
       "    </tr>\n",
       "  </thead>\n",
       "  <tbody>\n",
       "    <tr>\n",
       "      <th>1975-07-14</th>\n",
       "      <td>12:00:00</td>\n",
       "      <td>AM</td>\n",
       "      <td>42.80</td>\n",
       "      <td>13.00</td>\n",
       "      <td>AAA001  KPUD KEYPORT PRODUCTION WELL 1</td>\n",
       "      <td>AAA001</td>\n",
       "    </tr>\n",
       "    <tr>\n",
       "      <th>1990-11-14</th>\n",
       "      <td>8:55:00</td>\n",
       "      <td>AM</td>\n",
       "      <td>35.16</td>\n",
       "      <td>13.00</td>\n",
       "      <td>AAA001  KPUD KEYPORT PRODUCTION WELL 1</td>\n",
       "      <td>AAA001</td>\n",
       "    </tr>\n",
       "    <tr>\n",
       "      <th>1991-01-11</th>\n",
       "      <td>7:30:00</td>\n",
       "      <td>AM</td>\n",
       "      <td>37.47</td>\n",
       "      <td>13.00</td>\n",
       "      <td>AAA001  KPUD KEYPORT PRODUCTION WELL 1</td>\n",
       "      <td>AAA001</td>\n",
       "    </tr>\n",
       "    <tr>\n",
       "      <th>1991-03-27</th>\n",
       "      <td>7:40:00</td>\n",
       "      <td>AM</td>\n",
       "      <td>37.47</td>\n",
       "      <td>13.00</td>\n",
       "      <td>AAA001  KPUD KEYPORT PRODUCTION WELL 1</td>\n",
       "      <td>AAA001</td>\n",
       "    </tr>\n",
       "    <tr>\n",
       "      <th>1991-04-22</th>\n",
       "      <td>7:35:00</td>\n",
       "      <td>AM</td>\n",
       "      <td>37.47</td>\n",
       "      <td>13.00</td>\n",
       "      <td>AAA001  KPUD KEYPORT PRODUCTION WELL 1</td>\n",
       "      <td>AAA001</td>\n",
       "    </tr>\n",
       "    <tr>\n",
       "      <th>...</th>\n",
       "      <td>...</td>\n",
       "      <td>...</td>\n",
       "      <td>...</td>\n",
       "      <td>...</td>\n",
       "      <td>...</td>\n",
       "      <td>...</td>\n",
       "    </tr>\n",
       "    <tr>\n",
       "      <th>2017-10-09</th>\n",
       "      <td>12:00:00</td>\n",
       "      <td>PM</td>\n",
       "      <td>215.02</td>\n",
       "      <td>286.78</td>\n",
       "      <td>BHN761  KPUD PORT GAMBLE LOSS MW-1</td>\n",
       "      <td>BHN761</td>\n",
       "    </tr>\n",
       "    <tr>\n",
       "      <th>2018-01-17</th>\n",
       "      <td>1:30:00</td>\n",
       "      <td>PM</td>\n",
       "      <td>226.22</td>\n",
       "      <td>286.78</td>\n",
       "      <td>BHN761  KPUD PORT GAMBLE LOSS MW-1</td>\n",
       "      <td>BHN761</td>\n",
       "    </tr>\n",
       "    <tr>\n",
       "      <th>2018-05-08</th>\n",
       "      <td>9:50:00</td>\n",
       "      <td>AM</td>\n",
       "      <td>220.63</td>\n",
       "      <td>286.78</td>\n",
       "      <td>BHN761  KPUD PORT GAMBLE LOSS MW-1</td>\n",
       "      <td>BHN761</td>\n",
       "    </tr>\n",
       "    <tr>\n",
       "      <th>2018-08-13</th>\n",
       "      <td>12:00:00</td>\n",
       "      <td>AM</td>\n",
       "      <td>214.42</td>\n",
       "      <td>286.78</td>\n",
       "      <td>BHN761  KPUD PORT GAMBLE LOSS MW-1</td>\n",
       "      <td>BHN761</td>\n",
       "    </tr>\n",
       "    <tr>\n",
       "      <th>2018-10-15</th>\n",
       "      <td>10:45:00</td>\n",
       "      <td>AM</td>\n",
       "      <td>215.58</td>\n",
       "      <td>286.78</td>\n",
       "      <td>BHN761  KPUD PORT GAMBLE LOSS MW-1</td>\n",
       "      <td>BHN761</td>\n",
       "    </tr>\n",
       "  </tbody>\n",
       "</table>\n",
       "<p>40112 rows × 6 columns</p>\n",
       "</div>"
      ],
      "text/plain": [
       "                Time AM-PM  Water Level +/- MSL  Well Elevation  \\\n",
       "Date                                                              \n",
       "1975-07-14  12:00:00    AM                42.80           13.00   \n",
       "1990-11-14   8:55:00    AM                35.16           13.00   \n",
       "1991-01-11   7:30:00    AM                37.47           13.00   \n",
       "1991-03-27   7:40:00    AM                37.47           13.00   \n",
       "1991-04-22   7:35:00    AM                37.47           13.00   \n",
       "...              ...   ...                  ...             ...   \n",
       "2017-10-09  12:00:00    PM               215.02          286.78   \n",
       "2018-01-17   1:30:00    PM               226.22          286.78   \n",
       "2018-05-08   9:50:00    AM               220.63          286.78   \n",
       "2018-08-13  12:00:00    AM               214.42          286.78   \n",
       "2018-10-15  10:45:00    AM               215.58          286.78   \n",
       "\n",
       "                                         Well Name Location_Key  \n",
       "Date                                                             \n",
       "1975-07-14  AAA001  KPUD KEYPORT PRODUCTION WELL 1       AAA001  \n",
       "1990-11-14  AAA001  KPUD KEYPORT PRODUCTION WELL 1       AAA001  \n",
       "1991-01-11  AAA001  KPUD KEYPORT PRODUCTION WELL 1       AAA001  \n",
       "1991-03-27  AAA001  KPUD KEYPORT PRODUCTION WELL 1       AAA001  \n",
       "1991-04-22  AAA001  KPUD KEYPORT PRODUCTION WELL 1       AAA001  \n",
       "...                                            ...          ...  \n",
       "2017-10-09      BHN761  KPUD PORT GAMBLE LOSS MW-1       BHN761  \n",
       "2018-01-17      BHN761  KPUD PORT GAMBLE LOSS MW-1       BHN761  \n",
       "2018-05-08      BHN761  KPUD PORT GAMBLE LOSS MW-1       BHN761  \n",
       "2018-08-13      BHN761  KPUD PORT GAMBLE LOSS MW-1       BHN761  \n",
       "2018-10-15      BHN761  KPUD PORT GAMBLE LOSS MW-1       BHN761  \n",
       "\n",
       "[40112 rows x 6 columns]"
      ]
     },
     "execution_count": 12,
     "metadata": {},
     "output_type": "execute_result"
    }
   ],
   "source": [
    "well_depths"
   ]
  },
  {
   "cell_type": "code",
   "execution_count": null,
   "metadata": {},
   "outputs": [],
   "source": []
  }
 ],
 "metadata": {
  "kernelspec": {
   "display_name": "Python 3",
   "language": "python",
   "name": "python3"
  },
  "language_info": {
   "codemirror_mode": {
    "name": "ipython",
    "version": 3
   },
   "file_extension": ".py",
   "mimetype": "text/x-python",
   "name": "python",
   "nbconvert_exporter": "python",
   "pygments_lexer": "ipython3",
   "version": "3.8.2"
  }
 },
 "nbformat": 4,
 "nbformat_minor": 4
}
